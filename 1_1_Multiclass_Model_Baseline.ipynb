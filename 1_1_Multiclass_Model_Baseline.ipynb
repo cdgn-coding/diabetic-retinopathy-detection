{
 "cells": [
  {
   "cell_type": "code",
   "execution_count": 1,
   "metadata": {
    "colab": {
     "base_uri": "https://localhost:8080/"
    },
    "executionInfo": {
     "elapsed": 32462,
     "status": "ok",
     "timestamp": 1604922109711,
     "user": {
      "displayName": "David G. Nexans",
      "photoUrl": "https://lh3.googleusercontent.com/a-/AOh14GjKMR5A1MIkt5CI4NVl_4bDCiilvG4xV5IqNAc-=s64",
      "userId": "01183999060450846733"
     },
     "user_tz": 180
    },
    "id": "XBHtw2QHFv18",
    "outputId": "6f693f95-76d7-43a7-c276-73838c915223"
   },
   "outputs": [
    {
     "name": "stdout",
     "output_type": "stream",
     "text": [
      "Mounted at /content/gdrive\n"
     ]
    }
   ],
   "source": [
    "from google.colab import drive\n",
    "drive.mount('/content/gdrive')"
   ]
  },
  {
   "cell_type": "markdown",
   "metadata": {
    "id": "CrLHCSCR8QrI"
   },
   "source": [
    "# Model baseline"
   ]
  },
  {
   "cell_type": "markdown",
   "metadata": {
    "id": "lp6UxfAe81Z-"
   },
   "source": [
    "## Descarga del dataset"
   ]
  },
  {
   "cell_type": "code",
   "execution_count": 2,
   "metadata": {
    "colab": {
     "base_uri": "https://localhost:8080/"
    },
    "executionInfo": {
     "elapsed": 47705,
     "status": "ok",
     "timestamp": 1604922151429,
     "user": {
      "displayName": "David G. Nexans",
      "photoUrl": "https://lh3.googleusercontent.com/a-/AOh14GjKMR5A1MIkt5CI4NVl_4bDCiilvG4xV5IqNAc-=s64",
      "userId": "01183999060450846733"
     },
     "user_tz": 180
    },
    "id": "zPgUoN968Ob9",
    "outputId": "865da30a-8d47-42bf-c96c-86f2abd91f74"
   },
   "outputs": [
    {
     "name": "stdout",
     "output_type": "stream",
     "text": [
      "--2020-11-09 11:41:48--  https://storage.googleapis.com/diabetic-detection/data_downscaled.zip\n",
      "Resolving storage.googleapis.com (storage.googleapis.com)... 74.125.24.128, 172.217.194.128, 2404:6800:4003:c04::80, ...\n",
      "Connecting to storage.googleapis.com (storage.googleapis.com)|74.125.24.128|:443... connected.\n",
      "HTTP request sent, awaiting response... 200 OK\n",
      "Length: 990385145 (945M) [application/zip]\n",
      "Saving to: ‘data_downscaled.zip’\n",
      "\n",
      "data_downscaled.zip 100%[===================>] 944.50M  26.9MB/s    in 39s     \n",
      "\n",
      "2020-11-09 11:42:30 (24.0 MB/s) - ‘data_downscaled.zip’ saved [990385145/990385145]\n",
      "\n"
     ]
    }
   ],
   "source": [
    "!wget https://storage.googleapis.com/diabetic-detection/data_downscaled.zip"
   ]
  },
  {
   "cell_type": "code",
   "execution_count": 3,
   "metadata": {
    "executionInfo": {
     "elapsed": 63130,
     "status": "ok",
     "timestamp": 1604922166862,
     "user": {
      "displayName": "David G. Nexans",
      "photoUrl": "https://lh3.googleusercontent.com/a-/AOh14GjKMR5A1MIkt5CI4NVl_4bDCiilvG4xV5IqNAc-=s64",
      "userId": "01183999060450846733"
     },
     "user_tz": 180
    },
    "id": "Em0LeeDo84ip"
   },
   "outputs": [],
   "source": [
    "!unzip -o -q data_downscaled\n",
    "!mv .tmp dataset\n",
    "!mv dataset/raw_dataset_extracted_downscaled data\n",
    "!rm -rf dataset"
   ]
  },
  {
   "cell_type": "code",
   "execution_count": 4,
   "metadata": {
    "colab": {
     "base_uri": "https://localhost:8080/"
    },
    "executionInfo": {
     "elapsed": 63685,
     "status": "ok",
     "timestamp": 1604922167422,
     "user": {
      "displayName": "David G. Nexans",
      "photoUrl": "https://lh3.googleusercontent.com/a-/AOh14GjKMR5A1MIkt5CI4NVl_4bDCiilvG4xV5IqNAc-=s64",
      "userId": "01183999060450846733"
     },
     "user_tz": 180
    },
    "id": "T8VgiEG9-JUA",
    "outputId": "c2289d59-4bf0-4eb6-a13a-99a51fe4b60b"
   },
   "outputs": [
    {
     "name": "stdout",
     "output_type": "stream",
     "text": [
      "total 4296\n",
      "drwxr-xr-x 2 root root    4096 Nov  6 05:56 sample\n",
      "-rw-r--r-- 1 root root  709972 Nov  6 05:56 sampleSubmission.csv\n",
      "drwxr-xr-x 2 root root 1974272 Nov  6 04:51 test\n",
      "drwxr-xr-x 2 root root 1241088 Nov  6 05:56 train\n",
      "-rw-r--r-- 1 root root  465317 Nov  6 05:56 trainLabels.csv\n"
     ]
    }
   ],
   "source": [
    "!ls -l data"
   ]
  },
  {
   "cell_type": "markdown",
   "metadata": {
    "id": "Lcv1Mh3G_VeH"
   },
   "source": [
    "## Carga del dataset"
   ]
  },
  {
   "cell_type": "code",
   "execution_count": 5,
   "metadata": {
    "executionInfo": {
     "elapsed": 63680,
     "status": "ok",
     "timestamp": 1604922167424,
     "user": {
      "displayName": "David G. Nexans",
      "photoUrl": "https://lh3.googleusercontent.com/a-/AOh14GjKMR5A1MIkt5CI4NVl_4bDCiilvG4xV5IqNAc-=s64",
      "userId": "01183999060450846733"
     },
     "user_tz": 180
    },
    "id": "GeVkH-rt_VD2"
   },
   "outputs": [],
   "source": [
    "import pandas as pd\n",
    "import numpy as np\n",
    "import os, sys, shutil"
   ]
  },
  {
   "cell_type": "markdown",
   "metadata": {
    "id": "R2vsADwM_84s"
   },
   "source": [
    "Creo el dataframe en orden lexicografico respecto los nombres de los archivos."
   ]
  },
  {
   "cell_type": "code",
   "execution_count": 6,
   "metadata": {
    "executionInfo": {
     "elapsed": 63677,
     "status": "ok",
     "timestamp": 1604922167425,
     "user": {
      "displayName": "David G. Nexans",
      "photoUrl": "https://lh3.googleusercontent.com/a-/AOh14GjKMR5A1MIkt5CI4NVl_4bDCiilvG4xV5IqNAc-=s64",
      "userId": "01183999060450846733"
     },
     "user_tz": 180
    },
    "id": "bAeMR9bR-J8g"
   },
   "outputs": [],
   "source": [
    "labels = pd.read_csv('data/trainLabels.csv') \\\n",
    "  .sort_values(by = 'image')"
   ]
  },
  {
   "cell_type": "code",
   "execution_count": 7,
   "metadata": {
    "colab": {
     "base_uri": "https://localhost:8080/",
     "height": 108
    },
    "executionInfo": {
     "elapsed": 63673,
     "status": "ok",
     "timestamp": 1604922167427,
     "user": {
      "displayName": "David G. Nexans",
      "photoUrl": "https://lh3.googleusercontent.com/a-/AOh14GjKMR5A1MIkt5CI4NVl_4bDCiilvG4xV5IqNAc-=s64",
      "userId": "01183999060450846733"
     },
     "user_tz": 180
    },
    "id": "Vb65ZWCq_qsk",
    "outputId": "eb30d146-081e-4749-a26a-d84024dc81fa"
   },
   "outputs": [
    {
     "data": {
      "text/html": [
       "<div>\n",
       "<style scoped>\n",
       "    .dataframe tbody tr th:only-of-type {\n",
       "        vertical-align: middle;\n",
       "    }\n",
       "\n",
       "    .dataframe tbody tr th {\n",
       "        vertical-align: top;\n",
       "    }\n",
       "\n",
       "    .dataframe thead th {\n",
       "        text-align: right;\n",
       "    }\n",
       "</style>\n",
       "<table border=\"1\" class=\"dataframe\">\n",
       "  <thead>\n",
       "    <tr style=\"text-align: right;\">\n",
       "      <th></th>\n",
       "      <th>image</th>\n",
       "      <th>level</th>\n",
       "    </tr>\n",
       "  </thead>\n",
       "  <tbody>\n",
       "    <tr>\n",
       "      <th>7982</th>\n",
       "      <td>10003_left</td>\n",
       "      <td>0</td>\n",
       "    </tr>\n",
       "    <tr>\n",
       "      <th>7983</th>\n",
       "      <td>10003_right</td>\n",
       "      <td>0</td>\n",
       "    </tr>\n",
       "  </tbody>\n",
       "</table>\n",
       "</div>"
      ],
      "text/plain": [
       "            image  level\n",
       "7982   10003_left      0\n",
       "7983  10003_right      0"
      ]
     },
     "execution_count": 7,
     "metadata": {
      "tags": []
     },
     "output_type": "execute_result"
    }
   ],
   "source": [
    "labels.head(2)"
   ]
  },
  {
   "cell_type": "code",
   "execution_count": 8,
   "metadata": {
    "colab": {
     "base_uri": "https://localhost:8080/"
    },
    "executionInfo": {
     "elapsed": 63666,
     "status": "ok",
     "timestamp": 1604922167429,
     "user": {
      "displayName": "David G. Nexans",
      "photoUrl": "https://lh3.googleusercontent.com/a-/AOh14GjKMR5A1MIkt5CI4NVl_4bDCiilvG4xV5IqNAc-=s64",
      "userId": "01183999060450846733"
     },
     "user_tz": 180
    },
    "id": "N9iigeYAC0oP",
    "outputId": "4fd2039e-c3e4-436e-9207-9affa221a482"
   },
   "outputs": [
    {
     "data": {
      "text/plain": [
       "(0    0.734783\n",
       " 2    0.150658\n",
       " 1    0.069550\n",
       " 3    0.024853\n",
       " 4    0.020156\n",
       " Name: level, dtype: float64, 0    25810\n",
       " 2     5292\n",
       " 1     2443\n",
       " 3      873\n",
       " 4      708\n",
       " Name: level, dtype: int64)"
      ]
     },
     "execution_count": 8,
     "metadata": {
      "tags": []
     },
     "output_type": "execute_result"
    }
   ],
   "source": [
    "labels.level.value_counts() / labels.level.shape[0], labels.level.value_counts()"
   ]
  },
  {
   "cell_type": "code",
   "execution_count": 9,
   "metadata": {
    "colab": {
     "base_uri": "https://localhost:8080/",
     "height": 283
    },
    "executionInfo": {
     "elapsed": 63660,
     "status": "ok",
     "timestamp": 1604922167430,
     "user": {
      "displayName": "David G. Nexans",
      "photoUrl": "https://lh3.googleusercontent.com/a-/AOh14GjKMR5A1MIkt5CI4NVl_4bDCiilvG4xV5IqNAc-=s64",
      "userId": "01183999060450846733"
     },
     "user_tz": 180
    },
    "id": "RR3bcQn2AJ-R",
    "outputId": "e84ff01e-085c-4095-f175-f9e4da2bd6b1"
   },
   "outputs": [
    {
     "data": {
      "text/plain": [
       "<matplotlib.axes._subplots.AxesSubplot at 0x7fcd43835198>"
      ]
     },
     "execution_count": 9,
     "metadata": {
      "tags": []
     },
     "output_type": "execute_result"
    },
    {
     "data": {
      "image/png": "[encoded data removed]",
      "text/plain": [
       "<Figure size 432x288 with 1 Axes>"
      ]
     },
     "metadata": {
      "needs_background": "light",
      "tags": []
     },
     "output_type": "display_data"
    }
   ],
   "source": [
    "labels.level.plot(kind = 'hist')"
   ]
  },
  {
   "cell_type": "markdown",
   "metadata": {
    "id": "zr9FcuUrD7H3"
   },
   "source": [
    "## Resampling"
   ]
  },
  {
   "cell_type": "markdown",
   "metadata": {
    "id": "ATeoWYTAGfEM"
   },
   "source": [
    "Trabajo con maximo 1000 imagenes de cada clase para que esten mas balanceadas."
   ]
  },
  {
   "cell_type": "code",
   "execution_count": 10,
   "metadata": {
    "executionInfo": {
     "elapsed": 63653,
     "status": "ok",
     "timestamp": 1604922167431,
     "user": {
      "displayName": "David G. Nexans",
      "photoUrl": "https://lh3.googleusercontent.com/a-/AOh14GjKMR5A1MIkt5CI4NVl_4bDCiilvG4xV5IqNAc-=s64",
      "userId": "01183999060450846733"
     },
     "user_tz": 180
    },
    "id": "bpMmig2NBtBw"
   },
   "outputs": [],
   "source": [
    "resampled = labels.groupby('level', as_index = False,group_keys=False) \\\n",
    "  .apply(lambda column: column.sample(min(len(column), 1000)))"
   ]
  },
  {
   "cell_type": "code",
   "execution_count": 11,
   "metadata": {
    "colab": {
     "base_uri": "https://localhost:8080/",
     "height": 283
    },
    "executionInfo": {
     "elapsed": 63648,
     "status": "ok",
     "timestamp": 1604922167432,
     "user": {
      "displayName": "David G. Nexans",
      "photoUrl": "https://lh3.googleusercontent.com/a-/AOh14GjKMR5A1MIkt5CI4NVl_4bDCiilvG4xV5IqNAc-=s64",
      "userId": "01183999060450846733"
     },
     "user_tz": 180
    },
    "id": "ZHr3yNbfD--P",
    "outputId": "38d5a7f0-6099-4165-a576-f6aba9b47347"
   },
   "outputs": [
    {
     "data": {
      "text/plain": [
       "<matplotlib.axes._subplots.AxesSubplot at 0x7fcd43749cf8>"
      ]
     },
     "execution_count": 11,
     "metadata": {
      "tags": []
     },
     "output_type": "execute_result"
    },
    {
     "data": {
      "image/png": "[encoded data removed]",
      "text/plain": [
       "<Figure size 432x288 with 1 Axes>"
      ]
     },
     "metadata": {
      "needs_background": "light",
      "tags": []
     },
     "output_type": "display_data"
    }
   ],
   "source": [
    "resampled.level.plot(kind = 'hist')"
   ]
  },
  {
   "cell_type": "code",
   "execution_count": 12,
   "metadata": {
    "executionInfo": {
     "elapsed": 63643,
     "status": "ok",
     "timestamp": 1604922167433,
     "user": {
      "displayName": "David G. Nexans",
      "photoUrl": "https://lh3.googleusercontent.com/a-/AOh14GjKMR5A1MIkt5CI4NVl_4bDCiilvG4xV5IqNAc-=s64",
      "userId": "01183999060450846733"
     },
     "user_tz": 180
    },
    "id": "ji_n5dfkLQJS"
   },
   "outputs": [],
   "source": [
    "resampled = resampled.sort_values(by = 'image')"
   ]
  },
  {
   "cell_type": "code",
   "execution_count": 13,
   "metadata": {
    "colab": {
     "base_uri": "https://localhost:8080/"
    },
    "executionInfo": {
     "elapsed": 63638,
     "status": "ok",
     "timestamp": 1604922167433,
     "user": {
      "displayName": "David G. Nexans",
      "photoUrl": "https://lh3.googleusercontent.com/a-/AOh14GjKMR5A1MIkt5CI4NVl_4bDCiilvG4xV5IqNAc-=s64",
      "userId": "01183999060450846733"
     },
     "user_tz": 180
    },
    "id": "zNHRdk6AHEvH",
    "outputId": "9735e633-73db-4097-d029-c742613acd7c"
   },
   "outputs": [
    {
     "data": {
      "text/plain": [
       "2    0.218293\n",
       "1    0.218293\n",
       "0    0.218293\n",
       "3    0.190570\n",
       "4    0.154551\n",
       "Name: level, dtype: float64"
      ]
     },
     "execution_count": 13,
     "metadata": {
      "tags": []
     },
     "output_type": "execute_result"
    }
   ],
   "source": [
    "resampled.level.value_counts() / resampled.level.shape[0]"
   ]
  },
  {
   "cell_type": "code",
   "execution_count": 14,
   "metadata": {
    "colab": {
     "base_uri": "https://localhost:8080/"
    },
    "executionInfo": {
     "elapsed": 63633,
     "status": "ok",
     "timestamp": 1604922167434,
     "user": {
      "displayName": "David G. Nexans",
      "photoUrl": "https://lh3.googleusercontent.com/a-/AOh14GjKMR5A1MIkt5CI4NVl_4bDCiilvG4xV5IqNAc-=s64",
      "userId": "01183999060450846733"
     },
     "user_tz": 180
    },
    "id": "sS_Q-fSIKXcX",
    "outputId": "d83ec1cf-776d-4cc8-db5c-5b1e7269198d"
   },
   "outputs": [
    {
     "data": {
      "text/plain": [
       "4581"
      ]
     },
     "execution_count": 14,
     "metadata": {
      "tags": []
     },
     "output_type": "execute_result"
    }
   ],
   "source": [
    "resampled.shape[0]"
   ]
  },
  {
   "cell_type": "markdown",
   "metadata": {
    "id": "1wj5BDTgG5td"
   },
   "source": [
    "Creo una nueva carpeta de train mejor balanceada"
   ]
  },
  {
   "cell_type": "code",
   "execution_count": 15,
   "metadata": {
    "executionInfo": {
     "elapsed": 64081,
     "status": "ok",
     "timestamp": 1604922167889,
     "user": {
      "displayName": "David G. Nexans",
      "photoUrl": "https://lh3.googleusercontent.com/a-/AOh14GjKMR5A1MIkt5CI4NVl_4bDCiilvG4xV5IqNAc-=s64",
      "userId": "01183999060450846733"
     },
     "user_tz": 180
    },
    "id": "v09M1Rs5Ffdk"
   },
   "outputs": [],
   "source": [
    "orig_dir = 'data/train'\n",
    "dest_dir = 'data/train_balanced'\n",
    "\n",
    "if not os.path.exists(dest_dir):\n",
    "  os.mkdir(dest_dir)\n",
    "\n",
    "for _, item in resampled.image.items():\n",
    "  ext = '.jpeg'\n",
    "  orig_file = os.path.join(orig_dir, item + ext)\n",
    "  dest_file = os.path.join(dest_dir, item + ext)\n",
    "  shutil.copy(orig_file, dest_file)"
   ]
  },
  {
   "cell_type": "markdown",
   "metadata": {
    "id": "4O9x307PPBF-"
   },
   "source": [
    "Separo dos partes para test y validacion"
   ]
  },
  {
   "cell_type": "code",
   "execution_count": 16,
   "metadata": {
    "executionInfo": {
     "elapsed": 65121,
     "status": "ok",
     "timestamp": 1604922168934,
     "user": {
      "displayName": "David G. Nexans",
      "photoUrl": "https://lh3.googleusercontent.com/a-/AOh14GjKMR5A1MIkt5CI4NVl_4bDCiilvG4xV5IqNAc-=s64",
      "userId": "01183999060450846733"
     },
     "user_tz": 180
    },
    "id": "56IPRZsrOxbr"
   },
   "outputs": [],
   "source": [
    "from sklearn.model_selection import train_test_split\n",
    "\n",
    "train, test = train_test_split(resampled, train_size = 0.8, stratify = resampled.level)"
   ]
  },
  {
   "cell_type": "code",
   "execution_count": 17,
   "metadata": {
    "colab": {
     "base_uri": "https://localhost:8080/"
    },
    "executionInfo": {
     "elapsed": 65116,
     "status": "ok",
     "timestamp": 1604922168935,
     "user": {
      "displayName": "David G. Nexans",
      "photoUrl": "https://lh3.googleusercontent.com/a-/AOh14GjKMR5A1MIkt5CI4NVl_4bDCiilvG4xV5IqNAc-=s64",
      "userId": "01183999060450846733"
     },
     "user_tz": 180
    },
    "id": "K-02CPmxPExk",
    "outputId": "5c06ded6-55c6-4340-bd59-cc12be075230"
   },
   "outputs": [
    {
     "data": {
      "text/plain": [
       "(3664, 917)"
      ]
     },
     "execution_count": 17,
     "metadata": {
      "tags": []
     },
     "output_type": "execute_result"
    }
   ],
   "source": [
    "train.shape[0], test.shape[0]"
   ]
  },
  {
   "cell_type": "code",
   "execution_count": 18,
   "metadata": {
    "executionInfo": {
     "elapsed": 65109,
     "status": "ok",
     "timestamp": 1604922168935,
     "user": {
      "displayName": "David G. Nexans",
      "photoUrl": "https://lh3.googleusercontent.com/a-/AOh14GjKMR5A1MIkt5CI4NVl_4bDCiilvG4xV5IqNAc-=s64",
      "userId": "01183999060450846733"
     },
     "user_tz": 180
    },
    "id": "LXeLEGS9R7nf"
   },
   "outputs": [],
   "source": [
    "label_names = {\n",
    "  0: 'No DR',\n",
    "  1: 'Mild',\n",
    "  2: 'Moderate',\n",
    "  3: 'Severe',\n",
    "  4: 'Proliferative DR'\n",
    "}"
   ]
  },
  {
   "cell_type": "code",
   "execution_count": 19,
   "metadata": {
    "executionInfo": {
     "elapsed": 65105,
     "status": "ok",
     "timestamp": 1604922168936,
     "user": {
      "displayName": "David G. Nexans",
      "photoUrl": "https://lh3.googleusercontent.com/a-/AOh14GjKMR5A1MIkt5CI4NVl_4bDCiilvG4xV5IqNAc-=s64",
      "userId": "01183999060450846733"
     },
     "user_tz": 180
    },
    "id": "EBtLwd7bPQX5"
   },
   "outputs": [],
   "source": [
    "def create_directory_flow(df, subset_name):\n",
    "  for _, row in df.iterrows():\n",
    "    item = row.image\n",
    "    level = row['level']\n",
    "    label_name = label_names[level]\n",
    "    basedir = 'data/train_balanced'\n",
    "    ext = '.jpeg'\n",
    "    orig_file = os.path.join(basedir, item + ext)\n",
    "    os.makedirs(os.path.join(basedir, subset_name, label_name), exist_ok=True)\n",
    "    dest_file = os.path.join(basedir, subset_name, label_name, item + ext)\n",
    "    shutil.copy(orig_file, dest_file)"
   ]
  },
  {
   "cell_type": "code",
   "execution_count": 20,
   "metadata": {
    "executionInfo": {
     "elapsed": 66694,
     "status": "ok",
     "timestamp": 1604922170530,
     "user": {
      "displayName": "David G. Nexans",
      "photoUrl": "https://lh3.googleusercontent.com/a-/AOh14GjKMR5A1MIkt5CI4NVl_4bDCiilvG4xV5IqNAc-=s64",
      "userId": "01183999060450846733"
     },
     "user_tz": 180
    },
    "id": "J8z9ccKRSZzk"
   },
   "outputs": [],
   "source": [
    "create_directory_flow(train, 'train')\n",
    "create_directory_flow(test, 'validation')"
   ]
  },
  {
   "cell_type": "code",
   "execution_count": 21,
   "metadata": {
    "executionInfo": {
     "elapsed": 66690,
     "status": "ok",
     "timestamp": 1604922170531,
     "user": {
      "displayName": "David G. Nexans",
      "photoUrl": "https://lh3.googleusercontent.com/a-/AOh14GjKMR5A1MIkt5CI4NVl_4bDCiilvG4xV5IqNAc-=s64",
      "userId": "01183999060450846733"
     },
     "user_tz": 180
    },
    "id": "a7Wm4KE8T8mN"
   },
   "outputs": [],
   "source": [
    "! rm -rf data/train_balanced/*.jpeg\n",
    "! mv data/train_balanced data/balanced"
   ]
  },
  {
   "cell_type": "markdown",
   "metadata": {
    "id": "mu0nv8DCULhY"
   },
   "source": [
    "Aprovecho para zipear y descargar este proceso, asi lo puedo utilizar en notebooks mas adelante."
   ]
  },
  {
   "cell_type": "code",
   "execution_count": 22,
   "metadata": {
    "executionInfo": {
     "elapsed": 66685,
     "status": "ok",
     "timestamp": 1604922170532,
     "user": {
      "displayName": "David G. Nexans",
      "photoUrl": "https://lh3.googleusercontent.com/a-/AOh14GjKMR5A1MIkt5CI4NVl_4bDCiilvG4xV5IqNAc-=s64",
      "userId": "01183999060450846733"
     },
     "user_tz": 180
    },
    "id": "vZCXNLcbUKpw"
   },
   "outputs": [],
   "source": [
    "train.to_csv('data/balanced/train_labels.csv')\n",
    "test.to_csv('data/balanced/validation_labels.csv')"
   ]
  },
  {
   "cell_type": "code",
   "execution_count": 23,
   "metadata": {
    "executionInfo": {
     "elapsed": 68786,
     "status": "ok",
     "timestamp": 1604922172638,
     "user": {
      "displayName": "David G. Nexans",
      "photoUrl": "https://lh3.googleusercontent.com/a-/AOh14GjKMR5A1MIkt5CI4NVl_4bDCiilvG4xV5IqNAc-=s64",
      "userId": "01183999060450846733"
     },
     "user_tz": 180
    },
    "id": "MvjX-DltUrDa"
   },
   "outputs": [],
   "source": [
    "! cd data && zip -q -r 'flow_balanced_data.zip' 'balanced'"
   ]
  },
  {
   "cell_type": "markdown",
   "metadata": {
    "id": "2z3hjbStKcdn"
   },
   "source": [
    "## Modelo baseline sin data augmentation"
   ]
  },
  {
   "cell_type": "markdown",
   "metadata": {
    "id": "TWq5EVnIKlsU"
   },
   "source": [
    "Para comenzar solamente aplicamos el reescalado, usando los canales de colores originales del dataset."
   ]
  },
  {
   "cell_type": "code",
   "execution_count": 24,
   "metadata": {
    "colab": {
     "base_uri": "https://localhost:8080/"
    },
    "executionInfo": {
     "elapsed": 70217,
     "status": "ok",
     "timestamp": 1604922174074,
     "user": {
      "displayName": "David G. Nexans",
      "photoUrl": "https://lh3.googleusercontent.com/a-/AOh14GjKMR5A1MIkt5CI4NVl_4bDCiilvG4xV5IqNAc-=s64",
      "userId": "01183999060450846733"
     },
     "user_tz": 180
    },
    "id": "Y_oM29leKgbG",
    "outputId": "1e5a226f-12b0-44d3-bde0-9fa7b4731c67"
   },
   "outputs": [
    {
     "name": "stdout",
     "output_type": "stream",
     "text": [
      "Found 3664 images belonging to 5 classes.\n",
      "Found 917 images belonging to 5 classes.\n"
     ]
    }
   ],
   "source": [
    "from keras.preprocessing.image import ImageDataGenerator\n",
    "\n",
    "train_path = os.path.join('data', 'balanced', 'train')\n",
    "validation_path = os.path.join('data', 'balanced', 'validation')\n",
    "\n",
    "# Reescalamos todas las imágenes en un factor de 1./255\n",
    "train_datagen = ImageDataGenerator(rescale=1./255)\n",
    "test_datagen = ImageDataGenerator(rescale=1./255)\n",
    "\n",
    "# La función flow_from_directory() toma el path a un directorio\n",
    "# y genera batches de data a la que aplica las transformaciones definidas\n",
    "train_generator = train_datagen.flow_from_directory(\n",
    "        # Directorio target\n",
    "        train_path,\n",
    "        # Reescalamos las imágenes a tamaño 150x150\n",
    "        target_size=(224, 224),\n",
    "        batch_size=32,\n",
    "        # Usamos etiquetas binarias, ya que usamos binary_crossentropy\n",
    "        class_mode='categorical')\n",
    "\n",
    "validation_generator = test_datagen.flow_from_directory(\n",
    "        validation_path,\n",
    "        target_size=(224, 224),\n",
    "        batch_size=32,\n",
    "        shuffle=False,\n",
    "        class_mode='categorical')"
   ]
  },
  {
   "cell_type": "code",
   "execution_count": 25,
   "metadata": {
    "colab": {
     "base_uri": "https://localhost:8080/"
    },
    "executionInfo": {
     "elapsed": 76327,
     "status": "ok",
     "timestamp": 1604922180190,
     "user": {
      "displayName": "David G. Nexans",
      "photoUrl": "https://lh3.googleusercontent.com/a-/AOh14GjKMR5A1MIkt5CI4NVl_4bDCiilvG4xV5IqNAc-=s64",
      "userId": "01183999060450846733"
     },
     "user_tz": 180
    },
    "id": "Qolz_sKWNYgh",
    "outputId": "327bfb94-b4d1-4687-9338-38ce1b5c3940"
   },
   "outputs": [
    {
     "name": "stdout",
     "output_type": "stream",
     "text": [
      "Model: \"sequential\"\n",
      "_________________________________________________________________\n",
      "Layer (type)                 Output Shape              Param #   \n",
      "=================================================================\n",
      "conv2d (Conv2D)              (None, 222, 222, 32)      896       \n",
      "_________________________________________________________________\n",
      "max_pooling2d (MaxPooling2D) (None, 111, 111, 32)      0         \n",
      "_________________________________________________________________\n",
      "conv2d_1 (Conv2D)            (None, 109, 109, 64)      18496     \n",
      "_________________________________________________________________\n",
      "max_pooling2d_1 (MaxPooling2 (None, 54, 54, 64)        0         \n",
      "_________________________________________________________________\n",
      "conv2d_2 (Conv2D)            (None, 52, 52, 128)       73856     \n",
      "_________________________________________________________________\n",
      "max_pooling2d_2 (MaxPooling2 (None, 26, 26, 128)       0         \n",
      "_________________________________________________________________\n",
      "conv2d_3 (Conv2D)            (None, 24, 24, 128)       147584    \n",
      "_________________________________________________________________\n",
      "max_pooling2d_3 (MaxPooling2 (None, 12, 12, 128)       0         \n",
      "_________________________________________________________________\n",
      "flatten (Flatten)            (None, 18432)             0         \n",
      "_________________________________________________________________\n",
      "dense (Dense)                (None, 512)               9437696   \n",
      "_________________________________________________________________\n",
      "dense_1 (Dense)              (None, 5)                 2565      \n",
      "=================================================================\n",
      "Total params: 9,681,093\n",
      "Trainable params: 9,681,093\n",
      "Non-trainable params: 0\n",
      "_________________________________________________________________\n"
     ]
    }
   ],
   "source": [
    "from tensorflow.keras import layers\n",
    "from tensorflow.keras import models\n",
    "from tensorflow.keras.utils import plot_model\n",
    "from tensorflow.keras import optimizers\n",
    "\n",
    "model = models.Sequential()\n",
    "model.add(layers.Conv2D(32, (3, 3), activation='relu', input_shape=(224, 224, 3)))\n",
    "model.add(layers.MaxPooling2D((2, 2)))\n",
    "\n",
    "model.add(layers.Conv2D(64, (3, 3), activation='relu'))\n",
    "model.add(layers.MaxPooling2D((2, 2)))\n",
    "\n",
    "model.add(layers.Conv2D(128, (3, 3), activation='relu'))\n",
    "model.add(layers.MaxPooling2D((2, 2)))\n",
    "\n",
    "model.add(layers.Conv2D(128, (3, 3), activation='relu'))\n",
    "model.add(layers.MaxPooling2D((2, 2)))\n",
    "\n",
    "model.add(layers.Flatten())\n",
    "model.add(layers.Dense(512, activation='relu'))\n",
    "model.add(layers.Dense(5, activation='softmax'))\n",
    "\n",
    "model.summary()"
   ]
  },
  {
   "cell_type": "code",
   "execution_count": 26,
   "metadata": {
    "executionInfo": {
     "elapsed": 76321,
     "status": "ok",
     "timestamp": 1604922180191,
     "user": {
      "displayName": "David G. Nexans",
      "photoUrl": "https://lh3.googleusercontent.com/a-/AOh14GjKMR5A1MIkt5CI4NVl_4bDCiilvG4xV5IqNAc-=s64",
      "userId": "01183999060450846733"
     },
     "user_tz": 180
    },
    "id": "0kMYnGylV-wQ"
   },
   "outputs": [],
   "source": [
    "model.compile(\n",
    "    loss='binary_crossentropy',\n",
    "    optimizer=optimizers.RMSprop(lr=1e-4),\n",
    "    metrics=['accuracy']\n",
    ")"
   ]
  },
  {
   "cell_type": "code",
   "execution_count": 27,
   "metadata": {
    "executionInfo": {
     "elapsed": 76318,
     "status": "ok",
     "timestamp": 1604922180192,
     "user": {
      "displayName": "David G. Nexans",
      "photoUrl": "https://lh3.googleusercontent.com/a-/AOh14GjKMR5A1MIkt5CI4NVl_4bDCiilvG4xV5IqNAc-=s64",
      "userId": "01183999060450846733"
     },
     "user_tz": 180
    },
    "id": "LDHtxFKREHEW"
   },
   "outputs": [],
   "source": [
    "from tensorflow.keras.callbacks import EarlyStopping\n",
    "\n",
    "early_stopping = EarlyStopping(\n",
    "    monitor=\"val_loss\",\n",
    "    patience=4,\n",
    "    verbose=1,\n",
    "    mode=\"auto\",\n",
    "    restore_best_weights=False,\n",
    ")"
   ]
  },
  {
   "cell_type": "code",
   "execution_count": 28,
   "metadata": {
    "colab": {
     "base_uri": "https://localhost:8080/"
    },
    "executionInfo": {
     "elapsed": 307853,
     "status": "ok",
     "timestamp": 1604922411732,
     "user": {
      "displayName": "David G. Nexans",
      "photoUrl": "https://lh3.googleusercontent.com/a-/AOh14GjKMR5A1MIkt5CI4NVl_4bDCiilvG4xV5IqNAc-=s64",
      "userId": "01183999060450846733"
     },
     "user_tz": 180
    },
    "id": "BdSz6kixYpvu",
    "outputId": "824df1fc-5097-4dea-fd17-f0b25604a5f8"
   },
   "outputs": [
    {
     "name": "stdout",
     "output_type": "stream",
     "text": [
      "WARNING:tensorflow:From <ipython-input-28-ad7cc843fc0a>:7: Model.fit_generator (from tensorflow.python.keras.engine.training) is deprecated and will be removed in a future version.\n",
      "Instructions for updating:\n",
      "Please use Model.fit, which supports generators.\n",
      "Epoch 1/30\n",
      "  2/115 [..............................] - ETA: 4s - loss: 0.5181 - accuracy: 0.1719WARNING:tensorflow:Callbacks method `on_train_batch_end` is slow compared to the batch time (batch time: 0.0241s vs `on_train_batch_end` time: 0.0496s). Check your callbacks.\n",
      "115/115 [==============================] - 18s 157ms/step - loss: 0.4991 - accuracy: 0.2203 - val_loss: 0.4969 - val_accuracy: 0.2345\n",
      "Epoch 2/30\n",
      "115/115 [==============================] - 17s 151ms/step - loss: 0.4957 - accuracy: 0.2462 - val_loss: 0.4936 - val_accuracy: 0.2443\n",
      "Epoch 3/30\n",
      "115/115 [==============================] - 17s 149ms/step - loss: 0.4930 - accuracy: 0.2639 - val_loss: 0.4914 - val_accuracy: 0.2639\n",
      "Epoch 4/30\n",
      "115/115 [==============================] - 17s 149ms/step - loss: 0.4895 - accuracy: 0.2778 - val_loss: 0.4875 - val_accuracy: 0.2770\n",
      "Epoch 5/30\n",
      "115/115 [==============================] - 17s 149ms/step - loss: 0.4858 - accuracy: 0.2950 - val_loss: 0.4846 - val_accuracy: 0.2912\n",
      "Epoch 6/30\n",
      "115/115 [==============================] - 17s 148ms/step - loss: 0.4814 - accuracy: 0.3169 - val_loss: 0.4884 - val_accuracy: 0.2737\n",
      "Epoch 7/30\n",
      "115/115 [==============================] - 17s 147ms/step - loss: 0.4775 - accuracy: 0.3152 - val_loss: 0.4823 - val_accuracy: 0.2748\n",
      "Epoch 8/30\n",
      "115/115 [==============================] - 17s 147ms/step - loss: 0.4727 - accuracy: 0.3346 - val_loss: 0.4780 - val_accuracy: 0.3010\n",
      "Epoch 9/30\n",
      "115/115 [==============================] - 17s 146ms/step - loss: 0.4698 - accuracy: 0.3425 - val_loss: 0.4758 - val_accuracy: 0.3250\n",
      "Epoch 10/30\n",
      "115/115 [==============================] - 17s 146ms/step - loss: 0.4653 - accuracy: 0.3589 - val_loss: 0.4761 - val_accuracy: 0.3130\n",
      "Epoch 11/30\n",
      "115/115 [==============================] - 17s 147ms/step - loss: 0.4597 - accuracy: 0.3772 - val_loss: 0.4793 - val_accuracy: 0.3206\n",
      "Epoch 12/30\n",
      "115/115 [==============================] - 17s 144ms/step - loss: 0.4551 - accuracy: 0.3807 - val_loss: 0.4776 - val_accuracy: 0.3402\n",
      "Epoch 13/30\n",
      "115/115 [==============================] - 17s 145ms/step - loss: 0.4509 - accuracy: 0.3938 - val_loss: 0.4759 - val_accuracy: 0.3272\n",
      "Epoch 00013: early stopping\n"
     ]
    }
   ],
   "source": [
    "history = model.fit_generator(\n",
    "    train_generator,\n",
    "    steps_per_epoch=len(train_generator),\n",
    "    epochs=30,\n",
    "    validation_data=validation_generator,\n",
    "    validation_steps=len(validation_generator),\n",
    "    callbacks = [early_stopping]\n",
    "  )"
   ]
  },
  {
   "cell_type": "code",
   "execution_count": 29,
   "metadata": {
    "executionInfo": {
     "elapsed": 307849,
     "status": "ok",
     "timestamp": 1604922411734,
     "user": {
      "displayName": "David G. Nexans",
      "photoUrl": "https://lh3.googleusercontent.com/a-/AOh14GjKMR5A1MIkt5CI4NVl_4bDCiilvG4xV5IqNAc-=s64",
      "userId": "01183999060450846733"
     },
     "user_tz": 180
    },
    "id": "PWl3EKZqFebJ"
   },
   "outputs": [],
   "source": [
    "import matplotlib.pyplot as plt"
   ]
  },
  {
   "cell_type": "code",
   "execution_count": 30,
   "metadata": {
    "colab": {
     "base_uri": "https://localhost:8080/",
     "height": 295
    },
    "executionInfo": {
     "elapsed": 307843,
     "status": "ok",
     "timestamp": 1604922411734,
     "user": {
      "displayName": "David G. Nexans",
      "photoUrl": "https://lh3.googleusercontent.com/a-/AOh14GjKMR5A1MIkt5CI4NVl_4bDCiilvG4xV5IqNAc-=s64",
      "userId": "01183999060450846733"
     },
     "user_tz": 180
    },
    "id": "UjD6Rt4Na30K",
    "outputId": "1ba3f84c-4280-4956-8607-88f07a3d5a57"
   },
   "outputs": [
    {
     "data": {
      "image/png": "[encoded data removed]",
      "text/plain": [
       "<Figure size 432x288 with 1 Axes>"
      ]
     },
     "metadata": {
      "needs_background": "light",
      "tags": []
     },
     "output_type": "display_data"
    }
   ],
   "source": [
    "# summarize history for accuracy\n",
    "plt.plot(history.history['accuracy'])\n",
    "plt.plot(history.history['val_accuracy'])\n",
    "plt.title('model accuracy')\n",
    "plt.ylabel('accuracy')\n",
    "plt.xlabel('epoch')\n",
    "plt.legend(['train', 'test'], loc='upper left')\n",
    "plt.show()"
   ]
  },
  {
   "cell_type": "code",
   "execution_count": 31,
   "metadata": {
    "colab": {
     "base_uri": "https://localhost:8080/",
     "height": 295
    },
    "executionInfo": {
     "elapsed": 307837,
     "status": "ok",
     "timestamp": 1604922411735,
     "user": {
      "displayName": "David G. Nexans",
      "photoUrl": "https://lh3.googleusercontent.com/a-/AOh14GjKMR5A1MIkt5CI4NVl_4bDCiilvG4xV5IqNAc-=s64",
      "userId": "01183999060450846733"
     },
     "user_tz": 180
    },
    "id": "LyrLBQ_jFdVG",
    "outputId": "225c5e27-15ee-4c30-9b23-2327b8badd1d"
   },
   "outputs": [
    {
     "data": {
      "image/png": "[encoded data removed]",
      "text/plain": [
       "<Figure size 432x288 with 1 Axes>"
      ]
     },
     "metadata": {
      "needs_background": "light",
      "tags": []
     },
     "output_type": "display_data"
    }
   ],
   "source": [
    "plt.plot(history.history['loss'])\n",
    "plt.plot(history.history['val_loss'])\n",
    "plt.title('model loss')\n",
    "plt.ylabel('loss')\n",
    "plt.xlabel('epoch')\n",
    "plt.legend(['train', 'test'], loc='upper left')\n",
    "plt.show()"
   ]
  },
  {
   "cell_type": "code",
   "execution_count": 32,
   "metadata": {
    "executionInfo": {
     "elapsed": 308297,
     "status": "ok",
     "timestamp": 1604922412203,
     "user": {
      "displayName": "David G. Nexans",
      "photoUrl": "https://lh3.googleusercontent.com/a-/AOh14GjKMR5A1MIkt5CI4NVl_4bDCiilvG4xV5IqNAc-=s64",
      "userId": "01183999060450846733"
     },
     "user_tz": 180
    },
    "id": "fbABZJEPFh3Q"
   },
   "outputs": [],
   "source": [
    "model_save_name = 'Vainilla_3xConv.h5'\n",
    "modelpath = f'/content/gdrive/My Drive/Deteccion de Diabetes/{model_save_name}'\n",
    "model.save(modelpath)"
   ]
  },
  {
   "cell_type": "code",
   "execution_count": 32,
   "metadata": {
    "executionInfo": {
     "elapsed": 308296,
     "status": "ok",
     "timestamp": 1604922412204,
     "user": {
      "displayName": "David G. Nexans",
      "photoUrl": "https://lh3.googleusercontent.com/a-/AOh14GjKMR5A1MIkt5CI4NVl_4bDCiilvG4xV5IqNAc-=s64",
      "userId": "01183999060450846733"
     },
     "user_tz": 180
    },
    "id": "dnr9hv_QGdGC"
   },
   "outputs": [],
   "source": []
  }
 ],
 "metadata": {
  "accelerator": "GPU",
  "colab": {
   "authorship_tag": "ABX9TyPf2QcXul+jLz0DdJtUZyEf",
   "collapsed_sections": [],
   "name": "1_Model_Baseline.ipynb",
   "provenance": [],
   "toc_visible": true
  },
  "kernelspec": {
   "display_name": "Python 3",
   "language": "python",
   "name": "python3"
  },
  "language_info": {
   "codemirror_mode": {
    "name": "ipython",
    "version": 3
   },
   "file_extension": ".py",
   "mimetype": "text/x-python",
   "name": "python",
   "nbconvert_exporter": "python",
   "pygments_lexer": "ipython3",
   "version": "3.7.7"
  }
 },
 "nbformat": 4,
 "nbformat_minor": 1
}
