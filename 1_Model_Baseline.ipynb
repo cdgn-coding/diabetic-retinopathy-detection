{
  "nbformat": 4,
  "nbformat_minor": 0,
  "metadata": {
    "colab": {
      "name": "1_Model_Baseline.ipynb",
      "provenance": []
    },
    "kernelspec": {
      "name": "python3",
      "display_name": "Python 3"
    }
  },
  "cells": [
    {
      "cell_type": "markdown",
      "metadata": {
        "id": "CrLHCSCR8QrI"
      },
      "source": [
        "# Model baseline"
      ]
    },
    {
      "cell_type": "markdown",
      "metadata": {
        "id": "lp6UxfAe81Z-"
      },
      "source": [
        "## Descarga del dataset"
      ]
    },
    {
      "cell_type": "code",
      "metadata": {
        "id": "zPgUoN968Ob9",
        "outputId": "d1421a1c-f6ba-464c-ef47-c237432ab98c",
        "colab": {
          "base_uri": "https://localhost:8080/"
        }
      },
      "source": [
        "!wget https://storage.googleapis.com/diabetic-detection/data_downscaled.zip"
      ],
      "execution_count": 1,
      "outputs": [
        {
          "output_type": "stream",
          "text": [
            "--2020-11-07 04:25:29--  https://storage.googleapis.com/diabetic-detection/data_downscaled.zip\n",
            "Resolving storage.googleapis.com (storage.googleapis.com)... 173.194.216.128, 173.194.217.128, 108.177.12.128, ...\n",
            "Connecting to storage.googleapis.com (storage.googleapis.com)|173.194.216.128|:443... connected.\n",
            "HTTP request sent, awaiting response... 200 OK\n",
            "Length: 990385145 (945M) [application/zip]\n",
            "Saving to: ‘data_downscaled.zip’\n",
            "\n",
            "data_downscaled.zip 100%[===================>] 944.50M   211MB/s    in 4.7s    \n",
            "\n",
            "2020-11-07 04:25:34 (202 MB/s) - ‘data_downscaled.zip’ saved [990385145/990385145]\n",
            "\n"
          ],
          "name": "stdout"
        }
      ]
    },
    {
      "cell_type": "code",
      "metadata": {
        "id": "Em0LeeDo84ip"
      },
      "source": [
        "!unzip -o -q data_downscaled\n",
        "!mv .tmp dataset\n",
        "!mv dataset/raw_dataset_extracted_downscaled data\n",
        "!rm -rf dataset"
      ],
      "execution_count": 14,
      "outputs": []
    },
    {
      "cell_type": "code",
      "metadata": {
        "id": "T8VgiEG9-JUA",
        "outputId": "044763bc-bf7b-4a77-e724-94f77e56def9",
        "colab": {
          "base_uri": "https://localhost:8080/"
        }
      },
      "source": [
        "!ls -l data"
      ],
      "execution_count": 15,
      "outputs": [
        {
          "output_type": "stream",
          "text": [
            "total 4184\n",
            "drwxr-xr-x 2 root root    4096 Nov  7 04:30 sample\n",
            "-rw-r--r-- 1 root root  709972 Nov  6 05:56 sampleSubmission.csv\n",
            "drwxr-xr-x 2 root root 1908736 Nov  7 04:30 test\n",
            "drwxr-xr-x 2 root root 1191936 Nov  7 04:30 train\n",
            "-rw-r--r-- 1 root root  465317 Nov  6 05:56 trainLabels.csv\n"
          ],
          "name": "stdout"
        }
      ]
    },
    {
      "cell_type": "markdown",
      "metadata": {
        "id": "Lcv1Mh3G_VeH"
      },
      "source": [
        "## Carga del dataset"
      ]
    },
    {
      "cell_type": "code",
      "metadata": {
        "id": "GeVkH-rt_VD2"
      },
      "source": [
        "import pandas as pd\n",
        "import numpy as np\n",
        "import os, sys, shutil"
      ],
      "execution_count": 82,
      "outputs": []
    },
    {
      "cell_type": "markdown",
      "metadata": {
        "id": "R2vsADwM_84s"
      },
      "source": [
        "Creo el dataframe en orden lexicografico respecto los nombres de los archivos."
      ]
    },
    {
      "cell_type": "code",
      "metadata": {
        "id": "bAeMR9bR-J8g"
      },
      "source": [
        "labels = pd.read_csv('data/trainLabels.csv') \\\n",
        "  .sort_values(by = 'image')"
      ],
      "execution_count": 23,
      "outputs": []
    },
    {
      "cell_type": "code",
      "metadata": {
        "id": "Vb65ZWCq_qsk",
        "outputId": "a122ead9-fceb-493d-deeb-4c79f4b0eb1a",
        "colab": {
          "base_uri": "https://localhost:8080/",
          "height": 108
        }
      },
      "source": [
        "labels.head(2)"
      ],
      "execution_count": 26,
      "outputs": [
        {
          "output_type": "execute_result",
          "data": {
            "text/html": [
              "<div>\n",
              "<style scoped>\n",
              "    .dataframe tbody tr th:only-of-type {\n",
              "        vertical-align: middle;\n",
              "    }\n",
              "\n",
              "    .dataframe tbody tr th {\n",
              "        vertical-align: top;\n",
              "    }\n",
              "\n",
              "    .dataframe thead th {\n",
              "        text-align: right;\n",
              "    }\n",
              "</style>\n",
              "<table border=\"1\" class=\"dataframe\">\n",
              "  <thead>\n",
              "    <tr style=\"text-align: right;\">\n",
              "      <th></th>\n",
              "      <th>image</th>\n",
              "      <th>level</th>\n",
              "    </tr>\n",
              "  </thead>\n",
              "  <tbody>\n",
              "    <tr>\n",
              "      <th>7982</th>\n",
              "      <td>10003_left</td>\n",
              "      <td>0</td>\n",
              "    </tr>\n",
              "    <tr>\n",
              "      <th>7983</th>\n",
              "      <td>10003_right</td>\n",
              "      <td>0</td>\n",
              "    </tr>\n",
              "  </tbody>\n",
              "</table>\n",
              "</div>"
            ],
            "text/plain": [
              "            image  level\n",
              "7982   10003_left      0\n",
              "7983  10003_right      0"
            ]
          },
          "metadata": {
            "tags": []
          },
          "execution_count": 26
        }
      ]
    },
    {
      "cell_type": "code",
      "metadata": {
        "id": "N9iigeYAC0oP",
        "outputId": "885755ac-70cd-4919-ee1d-46947fab5ebf",
        "colab": {
          "base_uri": "https://localhost:8080/"
        }
      },
      "source": [
        "labels.level.value_counts() / labels.level.shape[0], labels.level.value_counts()"
      ],
      "execution_count": 45,
      "outputs": [
        {
          "output_type": "execute_result",
          "data": {
            "text/plain": [
              "(0    0.734783\n",
              " 2    0.150658\n",
              " 1    0.069550\n",
              " 3    0.024853\n",
              " 4    0.020156\n",
              " Name: level, dtype: float64, 0    25810\n",
              " 2     5292\n",
              " 1     2443\n",
              " 3      873\n",
              " 4      708\n",
              " Name: level, dtype: int64)"
            ]
          },
          "metadata": {
            "tags": []
          },
          "execution_count": 45
        }
      ]
    },
    {
      "cell_type": "code",
      "metadata": {
        "id": "RR3bcQn2AJ-R",
        "outputId": "051951bf-c958-45e7-9d63-5db2c841da01",
        "colab": {
          "base_uri": "https://localhost:8080/",
          "height": 283
        }
      },
      "source": [
        "labels.level.plot(kind = 'hist')"
      ],
      "execution_count": 69,
      "outputs": [
        {
          "output_type": "execute_result",
          "data": {
            "text/plain": [
              "<matplotlib.axes._subplots.AxesSubplot at 0x7f2e6d21be80>"
            ]
          },
          "metadata": {
            "tags": []
          },
          "execution_count": 69
        },
        {
          "output_type": "display_data",
          "data": {
            "image/png": "[encoded data removed]",
            "text/plain": [
              "<Figure size 432x288 with 1 Axes>"
            ]
          },
          "metadata": {
            "tags": [],
            "needs_background": "light"
          }
        }
      ]
    },
    {
      "cell_type": "markdown",
      "metadata": {
        "id": "zr9FcuUrD7H3"
      },
      "source": [
        "## Resampling"
      ]
    },
    {
      "cell_type": "markdown",
      "metadata": {
        "id": "ATeoWYTAGfEM"
      },
      "source": [
        "Trabajo con maximo 1000 imagenes de cada clase para que esten mas balanceadas."
      ]
    },
    {
      "cell_type": "code",
      "metadata": {
        "id": "bpMmig2NBtBw"
      },
      "source": [
        "resampled = labels.groupby('level', as_index = False,group_keys=False) \\\n",
        "  .apply(lambda column: column.sample(min(len(column), 1000)))"
      ],
      "execution_count": 74,
      "outputs": []
    },
    {
      "cell_type": "code",
      "metadata": {
        "id": "ZHr3yNbfD--P",
        "outputId": "2623751d-0f7d-432c-fbca-f56bde4aac8b",
        "colab": {
          "base_uri": "https://localhost:8080/",
          "height": 283
        }
      },
      "source": [
        "resampled.level.plot(kind = 'hist')"
      ],
      "execution_count": 75,
      "outputs": [
        {
          "output_type": "execute_result",
          "data": {
            "text/plain": [
              "<matplotlib.axes._subplots.AxesSubplot at 0x7f2e6cf4ba90>"
            ]
          },
          "metadata": {
            "tags": []
          },
          "execution_count": 75
        },
        {
          "output_type": "display_data",
          "data": {
            "image/png": "[encoded data removed]",
            "text/plain": [
              "<Figure size 432x288 with 1 Axes>"
            ]
          },
          "metadata": {
            "tags": [],
            "needs_background": "light"
          }
        }
      ]
    },
    {
      "cell_type": "code",
      "metadata": {
        "id": "ji_n5dfkLQJS"
      },
      "source": [
        "resampled = resampled.sort_values(by = 'image')"
      ],
      "execution_count": 109,
      "outputs": []
    },
    {
      "cell_type": "code",
      "metadata": {
        "id": "zNHRdk6AHEvH",
        "outputId": "60482f93-b177-467d-827a-ebcb53c1c0da",
        "colab": {
          "base_uri": "https://localhost:8080/"
        }
      },
      "source": [
        "resampled.level.value_counts() / resampled.level.shape[0]"
      ],
      "execution_count": 80,
      "outputs": [
        {
          "output_type": "execute_result",
          "data": {
            "text/plain": [
              "2    0.218293\n",
              "1    0.218293\n",
              "0    0.218293\n",
              "3    0.190570\n",
              "4    0.154551\n",
              "Name: level, dtype: float64"
            ]
          },
          "metadata": {
            "tags": []
          },
          "execution_count": 80
        }
      ]
    },
    {
      "cell_type": "code",
      "metadata": {
        "id": "sS_Q-fSIKXcX",
        "outputId": "10dd8a2f-072f-4843-e543-6643a2ed1b59",
        "colab": {
          "base_uri": "https://localhost:8080/"
        }
      },
      "source": [
        "resampled.shape[0]"
      ],
      "execution_count": 108,
      "outputs": [
        {
          "output_type": "execute_result",
          "data": {
            "text/plain": [
              "4581"
            ]
          },
          "metadata": {
            "tags": []
          },
          "execution_count": 108
        }
      ]
    },
    {
      "cell_type": "markdown",
      "metadata": {
        "id": "1wj5BDTgG5td"
      },
      "source": [
        "Creo una nueva carpeta de train mejor balanceada"
      ]
    },
    {
      "cell_type": "code",
      "metadata": {
        "id": "v09M1Rs5Ffdk"
      },
      "source": [
        "orig_dir = 'data/train'\n",
        "dest_dir = 'data/train_balanced'\n",
        "\n",
        "if not os.path.exists(dest_dir):\n",
        "  os.mkdir(dest_dir)\n",
        "\n",
        "for _, item in resampled.image.items():\n",
        "  ext = '.jpeg'\n",
        "  orig_file = os.path.join(orig_dir, item + ext)\n",
        "  dest_file = os.path.join(dest_dir, item + ext)\n",
        "  shutil.copy(orig_file, dest_file)"
      ],
      "execution_count": 211,
      "outputs": []
    },
    {
      "cell_type": "markdown",
      "metadata": {
        "id": "4O9x307PPBF-"
      },
      "source": [
        "Separo dos partes para test y validacion"
      ]
    },
    {
      "cell_type": "code",
      "metadata": {
        "id": "56IPRZsrOxbr"
      },
      "source": [
        "from sklearn.model_selection import train_test_split\n",
        "\n",
        "train, test = train_test_split(resampled, train_size = 0.8)"
      ],
      "execution_count": 212,
      "outputs": []
    },
    {
      "cell_type": "code",
      "metadata": {
        "id": "K-02CPmxPExk",
        "outputId": "3460747c-b528-4eab-83da-497cd73acb6f",
        "colab": {
          "base_uri": "https://localhost:8080/"
        }
      },
      "source": [
        "train.shape[0], test.shape[0]"
      ],
      "execution_count": 213,
      "outputs": [
        {
          "output_type": "execute_result",
          "data": {
            "text/plain": [
              "(3664, 917)"
            ]
          },
          "metadata": {
            "tags": []
          },
          "execution_count": 213
        }
      ]
    },
    {
      "cell_type": "code",
      "metadata": {
        "id": "LXeLEGS9R7nf"
      },
      "source": [
        "label_names = {\n",
        "  0: 'No DR',\n",
        "  1: 'Mild',\n",
        "  2: 'Moderate',\n",
        "  3: 'Severe',\n",
        "  4: 'Proliferative DR'\n",
        "}"
      ],
      "execution_count": 214,
      "outputs": []
    },
    {
      "cell_type": "code",
      "metadata": {
        "id": "EBtLwd7bPQX5"
      },
      "source": [
        "def create_directory_flow(df, subset_name):\n",
        "  for _, row in df.iterrows():\n",
        "    item = row.image\n",
        "    level = row['level']\n",
        "    label_name = label_names[level]\n",
        "    basedir = 'data/train_balanced'\n",
        "    ext = '.jpeg'\n",
        "    orig_file = os.path.join(orig_dir, item + ext)\n",
        "    os.makedirs(os.path.join(dest_dir, subset_name, label_name), exist_ok=True)\n",
        "    dest_file = os.path.join(dest_dir, subset_name, label_name, item + ext)\n",
        "    shutil.copy(orig_file, dest_file)"
      ],
      "execution_count": 215,
      "outputs": []
    },
    {
      "cell_type": "code",
      "metadata": {
        "id": "J8z9ccKRSZzk"
      },
      "source": [
        "create_directory_flow(train, 'train')\n",
        "create_directory_flow(test, 'validation')"
      ],
      "execution_count": 216,
      "outputs": []
    },
    {
      "cell_type": "code",
      "metadata": {
        "id": "a7Wm4KE8T8mN",
        "outputId": "536e6245-2c94-43b5-b238-028f0a6e6a48",
        "colab": {
          "base_uri": "https://localhost:8080/"
        }
      },
      "source": [
        "! rm -rf data/train_balanced/*.jpeg\n",
        "! mv data/train_balanced data/balanced"
      ],
      "execution_count": 217,
      "outputs": [
        {
          "output_type": "stream",
          "text": [
            "mv: cannot move 'data/train_balanced' to 'data/balanced/train_balanced': Directory not empty\n"
          ],
          "name": "stdout"
        }
      ]
    },
    {
      "cell_type": "markdown",
      "metadata": {
        "id": "mu0nv8DCULhY"
      },
      "source": [
        "Aprovecho para zipear y descargar este proceso, asi lo puedo utilizar en notebooks mas adelante."
      ]
    },
    {
      "cell_type": "code",
      "metadata": {
        "id": "vZCXNLcbUKpw"
      },
      "source": [
        "train.to_csv('data/balanced/train_labels.csv')\n",
        "test.to_csv('data/balanced/validation_labels.csv')"
      ],
      "execution_count": 218,
      "outputs": []
    },
    {
      "cell_type": "code",
      "metadata": {
        "id": "MvjX-DltUrDa"
      },
      "source": [
        "! cd data && zip -q -r 'flow_balanced_data.zip' 'balanced'"
      ],
      "execution_count": 219,
      "outputs": []
    },
    {
      "cell_type": "markdown",
      "metadata": {
        "id": "2z3hjbStKcdn"
      },
      "source": [
        "## Modelo baseline sin data augmentation"
      ]
    },
    {
      "cell_type": "markdown",
      "metadata": {
        "id": "TWq5EVnIKlsU"
      },
      "source": [
        "Para comenzar solamente aplicamos el reescalado, usando los canales de colores originales del dataset."
      ]
    },
    {
      "cell_type": "code",
      "metadata": {
        "id": "Y_oM29leKgbG",
        "outputId": "f124a98a-ec27-4354-9122-7456a8bb70d3",
        "colab": {
          "base_uri": "https://localhost:8080/"
        }
      },
      "source": [
        "from keras.preprocessing.image import ImageDataGenerator\n",
        "\n",
        "train_path = os.path.join('data', 'balanced', 'train')\n",
        "validation_path = os.path.join('data', 'balanced', 'validation')\n",
        "\n",
        "# Reescalamos todas las imágenes en un factor de 1./255\n",
        "train_datagen = ImageDataGenerator(rescale=1./255)\n",
        "test_datagen = ImageDataGenerator(rescale=1./255)\n",
        "\n",
        "# La función flow_from_directory() toma el path a un directorio\n",
        "# y genera batches de data a la que aplica las transformaciones definidas\n",
        "train_generator = train_datagen.flow_from_directory(\n",
        "        # Directorio target\n",
        "        train_path,\n",
        "        # Reescalamos las imágenes a tamaño 150x150\n",
        "        target_size=(224, 224),\n",
        "        batch_size=32,\n",
        "        # Usamos etiquetas binarias, ya que usamos binary_crossentropy\n",
        "        class_mode='categorical')\n",
        "\n",
        "validation_generator = test_datagen.flow_from_directory(\n",
        "        validation_path,\n",
        "        target_size=(224, 224),\n",
        "        batch_size=32,\n",
        "        shuffle=False,\n",
        "        class_mode='categorical')"
      ],
      "execution_count": 220,
      "outputs": [
        {
          "output_type": "stream",
          "text": [
            "Found 3664 images belonging to 5 classes.\n",
            "Found 3664 images belonging to 5 classes.\n"
          ],
          "name": "stdout"
        }
      ]
    },
    {
      "cell_type": "code",
      "metadata": {
        "id": "Qolz_sKWNYgh",
        "outputId": "40aed3f8-825e-48e4-ef3e-5e3ce8a0ac43",
        "colab": {
          "base_uri": "https://localhost:8080/"
        }
      },
      "source": [
        "from tensorflow.keras import layers\n",
        "from tensorflow.keras import models\n",
        "from tensorflow.keras.utils import plot_model\n",
        "from tensorflow.keras import optimizers\n",
        "\n",
        "model = models.Sequential()\n",
        "model.add(layers.Conv2D(32, (3, 3), activation='relu', input_shape=(224, 224, 3)))\n",
        "model.add(layers.MaxPooling2D((2, 2)))\n",
        "\n",
        "model.add(layers.Conv2D(64, (3, 3), activation='relu'))\n",
        "model.add(layers.MaxPooling2D((2, 2)))\n",
        "\n",
        "model.add(layers.Conv2D(128, (3, 3), activation='relu'))\n",
        "model.add(layers.MaxPooling2D((2, 2)))\n",
        "\n",
        "model.add(layers.Conv2D(128, (3, 3), activation='relu'))\n",
        "model.add(layers.MaxPooling2D((2, 2)))\n",
        "\n",
        "model.add(layers.Flatten())\n",
        "model.add(layers.Dense(512, activation='relu'))\n",
        "model.add(layers.Dense(1, activation='sigmoid'))\n",
        "\n",
        "model.summary()"
      ],
      "execution_count": 221,
      "outputs": [
        {
          "output_type": "stream",
          "text": [
            "Model: \"sequential_7\"\n",
            "_________________________________________________________________\n",
            "Layer (type)                 Output Shape              Param #   \n",
            "=================================================================\n",
            "conv2d_24 (Conv2D)           (None, 222, 222, 32)      896       \n",
            "_________________________________________________________________\n",
            "max_pooling2d_24 (MaxPooling (None, 111, 111, 32)      0         \n",
            "_________________________________________________________________\n",
            "conv2d_25 (Conv2D)           (None, 109, 109, 64)      18496     \n",
            "_________________________________________________________________\n",
            "max_pooling2d_25 (MaxPooling (None, 54, 54, 64)        0         \n",
            "_________________________________________________________________\n",
            "conv2d_26 (Conv2D)           (None, 52, 52, 128)       73856     \n",
            "_________________________________________________________________\n",
            "max_pooling2d_26 (MaxPooling (None, 26, 26, 128)       0         \n",
            "_________________________________________________________________\n",
            "conv2d_27 (Conv2D)           (None, 24, 24, 128)       147584    \n",
            "_________________________________________________________________\n",
            "max_pooling2d_27 (MaxPooling (None, 12, 12, 128)       0         \n",
            "_________________________________________________________________\n",
            "flatten_6 (Flatten)          (None, 18432)             0         \n",
            "_________________________________________________________________\n",
            "dense_12 (Dense)             (None, 512)               9437696   \n",
            "_________________________________________________________________\n",
            "dense_13 (Dense)             (None, 1)                 513       \n",
            "=================================================================\n",
            "Total params: 9,679,041\n",
            "Trainable params: 9,679,041\n",
            "Non-trainable params: 0\n",
            "_________________________________________________________________\n"
          ],
          "name": "stdout"
        }
      ]
    },
    {
      "cell_type": "code",
      "metadata": {
        "id": "0kMYnGylV-wQ"
      },
      "source": [
        "model.compile(\n",
        "    loss='binary_crossentropy',\n",
        "    optimizer=optimizers.RMSprop(lr=1e-4),\n",
        "    metrics=['accuracy']\n",
        ")"
      ],
      "execution_count": 222,
      "outputs": []
    },
    {
      "cell_type": "code",
      "metadata": {
        "id": "BdSz6kixYpvu",
        "outputId": "12ee23e9-2f4b-4158-d733-4572a6d7c52a",
        "colab": {
          "base_uri": "https://localhost:8080/"
        }
      },
      "source": [
        "history = model.fit_generator(\n",
        "    train_generator,\n",
        "    steps_per_epoch=len(train_generator),\n",
        "    epochs=30,\n",
        "    validation_data=validation_generator,\n",
        "    validation_steps=len(validation_generator)\n",
        "  )"
      ],
      "execution_count": 223,
      "outputs": [
        {
          "output_type": "stream",
          "text": [
            "Epoch 1/30\n",
            "115/115 [==============================] - 464s 4s/step - loss: 0.5121 - accuracy: 0.7951 - val_loss: 0.5016 - val_accuracy: 0.8000\n",
            "Epoch 2/30\n",
            "115/115 [==============================] - 462s 4s/step - loss: 0.5033 - accuracy: 0.8000 - val_loss: 0.5017 - val_accuracy: 0.8000\n",
            "Epoch 3/30\n",
            "115/115 [==============================] - 470s 4s/step - loss: 0.5018 - accuracy: 0.8000 - val_loss: 0.5015 - val_accuracy: 0.8000\n",
            "Epoch 4/30\n",
            "115/115 [==============================] - 465s 4s/step - loss: 0.5013 - accuracy: 0.8000 - val_loss: 0.5009 - val_accuracy: 0.8000\n",
            "Epoch 5/30\n",
            "115/115 [==============================] - 461s 4s/step - loss: 0.5010 - accuracy: 0.8000 - val_loss: 0.5010 - val_accuracy: 0.8000\n",
            "Epoch 6/30\n",
            "115/115 [==============================] - 462s 4s/step - loss: 0.5009 - accuracy: 0.8000 - val_loss: 0.5009 - val_accuracy: 0.8000\n",
            "Epoch 7/30\n",
            "115/115 [==============================] - 463s 4s/step - loss: 0.5008 - accuracy: 0.8000 - val_loss: 0.5007 - val_accuracy: 0.8000\n",
            "Epoch 8/30\n",
            "115/115 [==============================] - 459s 4s/step - loss: 0.5007 - accuracy: 0.8000 - val_loss: 0.5008 - val_accuracy: 0.8000\n",
            "Epoch 9/30\n",
            "115/115 [==============================] - 459s 4s/step - loss: 0.5007 - accuracy: 0.8000 - val_loss: 0.5006 - val_accuracy: 0.8000\n",
            "Epoch 10/30\n",
            "115/115 [==============================] - 459s 4s/step - loss: 0.5006 - accuracy: 0.8000 - val_loss: 0.5007 - val_accuracy: 0.8000\n",
            "Epoch 11/30\n",
            "115/115 [==============================] - 458s 4s/step - loss: 0.5006 - accuracy: 0.8000 - val_loss: 0.5006 - val_accuracy: 0.8000\n",
            "Epoch 12/30\n",
            "115/115 [==============================] - 457s 4s/step - loss: 0.5006 - accuracy: 0.8000 - val_loss: 0.5006 - val_accuracy: 0.8000\n",
            "Epoch 13/30\n",
            "115/115 [==============================] - 457s 4s/step - loss: 0.5006 - accuracy: 0.8000 - val_loss: 0.5006 - val_accuracy: 0.8000\n",
            "Epoch 14/30\n",
            "115/115 [==============================] - 459s 4s/step - loss: 0.5005 - accuracy: 0.8000 - val_loss: 0.5005 - val_accuracy: 0.8000\n",
            "Epoch 15/30\n",
            "115/115 [==============================] - 457s 4s/step - loss: 0.5005 - accuracy: 0.8000 - val_loss: 0.5005 - val_accuracy: 0.8000\n",
            "Epoch 16/30\n",
            "115/115 [==============================] - 457s 4s/step - loss: 0.5005 - accuracy: 0.8000 - val_loss: 0.5005 - val_accuracy: 0.8000\n",
            "Epoch 17/30\n",
            "115/115 [==============================] - 457s 4s/step - loss: 0.5005 - accuracy: 0.8000 - val_loss: 0.5005 - val_accuracy: 0.8000\n",
            "Epoch 18/30\n",
            "115/115 [==============================] - 457s 4s/step - loss: 0.5005 - accuracy: 0.8000 - val_loss: 0.5005 - val_accuracy: 0.8000\n",
            "Epoch 19/30\n",
            "115/115 [==============================] - 459s 4s/step - loss: 0.5005 - accuracy: 0.8000 - val_loss: 0.5005 - val_accuracy: 0.8000\n",
            "Epoch 20/30\n",
            "115/115 [==============================] - 459s 4s/step - loss: 0.5005 - accuracy: 0.8000 - val_loss: 0.5005 - val_accuracy: 0.8000\n",
            "Epoch 21/30\n",
            "115/115 [==============================] - 457s 4s/step - loss: 0.5005 - accuracy: 0.8000 - val_loss: 0.5005 - val_accuracy: 0.8000\n",
            "Epoch 22/30\n",
            "115/115 [==============================] - 458s 4s/step - loss: 0.5005 - accuracy: 0.8000 - val_loss: 0.5005 - val_accuracy: 0.8000\n",
            "Epoch 23/30\n",
            "115/115 [==============================] - 458s 4s/step - loss: 0.5005 - accuracy: 0.8000 - val_loss: 0.5005 - val_accuracy: 0.8000\n",
            "Epoch 24/30\n",
            "115/115 [==============================] - 457s 4s/step - loss: 0.5005 - accuracy: 0.8000 - val_loss: 0.5005 - val_accuracy: 0.8000\n",
            "Epoch 25/30\n",
            "115/115 [==============================] - 458s 4s/step - loss: 0.5005 - accuracy: 0.8000 - val_loss: 0.5005 - val_accuracy: 0.8000\n",
            "Epoch 26/30\n",
            "115/115 [==============================] - 458s 4s/step - loss: 0.5005 - accuracy: 0.8000 - val_loss: 0.5005 - val_accuracy: 0.8000\n",
            "Epoch 27/30\n",
            "115/115 [==============================] - 459s 4s/step - loss: 0.5005 - accuracy: 0.8000 - val_loss: 0.5005 - val_accuracy: 0.8000\n",
            "Epoch 28/30\n",
            "115/115 [==============================] - 462s 4s/step - loss: 0.5005 - accuracy: 0.8000 - val_loss: 0.5005 - val_accuracy: 0.8000\n",
            "Epoch 29/30\n",
            "115/115 [==============================] - 463s 4s/step - loss: 0.5005 - accuracy: 0.8000 - val_loss: 0.5005 - val_accuracy: 0.8000\n",
            "Epoch 30/30\n",
            "115/115 [==============================] - 459s 4s/step - loss: 0.5005 - accuracy: 0.8000 - val_loss: 0.5005 - val_accuracy: 0.8000\n"
          ],
          "name": "stdout"
        }
      ]
    },
    {
      "cell_type": "code",
      "metadata": {
        "id": "UjD6Rt4Na30K"
      },
      "source": [
        ""
      ],
      "execution_count": null,
      "outputs": []
    }
  ]
}