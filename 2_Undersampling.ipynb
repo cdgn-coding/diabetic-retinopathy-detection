{
 "cells": [
  {
   "cell_type": "code",
   "execution_count": 1,
   "metadata": {},
   "outputs": [],
   "source": [
    "import pandas as pd\n",
    "import os, shutil"
   ]
  },
  {
   "cell_type": "code",
   "execution_count": 3,
   "metadata": {},
   "outputs": [],
   "source": [
    "data_dir = 'data'"
   ]
  },
  {
   "cell_type": "code",
   "execution_count": 4,
   "metadata": {},
   "outputs": [],
   "source": [
    "df_medidas = pd.read_csv(data_dir + '/data.csv')"
   ]
  },
  {
   "cell_type": "code",
   "execution_count": 6,
   "metadata": {},
   "outputs": [
    {
     "data": {
      "text/plain": [
       "0    25810\n",
       "2     5292\n",
       "1     2443\n",
       "3      873\n",
       "4      708\n",
       "Name: level, dtype: int64"
      ]
     },
     "execution_count": 6,
     "metadata": {},
     "output_type": "execute_result"
    }
   ],
   "source": [
    "df_medidas['level'].value_counts()"
   ]
  },
  {
   "cell_type": "code",
   "execution_count": null,
   "metadata": {},
   "outputs": [],
   "source": [
    "# Obtener resolución de las imágenes y agregarlas en el dataset\n",
    "\n",
    "for index, row in df_medidas.iterrows():\n",
    "    img = Image.open(data_dir + \"/images/\" + row['image'] + '.jpeg')\n",
    "    df_medidas.loc[index, 'ancho'] = img.width\n",
    "    df_medidas.loc[index, 'alto'] = img.height"
   ]
  },
  {
   "cell_type": "code",
   "execution_count": null,
   "metadata": {},
   "outputs": [],
   "source": [
    "df_medidas.sort_values(by='level', inplace=True)"
   ]
  },
  {
   "cell_type": "code",
   "execution_count": null,
   "metadata": {},
   "outputs": [],
   "source": [
    "# Ordeno las de level 0 (sin diabetes) por nombre y luego por mayor ancho\n",
    "df_medidas_level0 = df_medidas[df_medidas['level'] == 0].sort_values(by='image').sort_values(by='ancho', ascending=False)"
   ]
  },
  {
   "cell_type": "code",
   "execution_count": null,
   "metadata": {},
   "outputs": [],
   "source": [
    "df_medidas_resto = df_medidas[df_medidas['level'] != 0]"
   ]
  },
  {
   "cell_type": "code",
   "execution_count": null,
   "metadata": {},
   "outputs": [],
   "source": [
    "df_medidas_resto.shape"
   ]
  },
  {
   "cell_type": "code",
   "execution_count": null,
   "metadata": {},
   "outputs": [],
   "source": [
    "df_medidas_level0 = df_medidas_level0.head(df_medidas_resto.shape[0])"
   ]
  },
  {
   "cell_type": "code",
   "execution_count": null,
   "metadata": {},
   "outputs": [],
   "source": [
    "df_medidas_level0.shape"
   ]
  },
  {
   "cell_type": "code",
   "execution_count": null,
   "metadata": {},
   "outputs": [],
   "source": [
    "df_medidas_resto['Diabetes'] = 'Si'\n",
    "df_medidas_level0['Diabetes'] = 'No'"
   ]
  },
  {
   "cell_type": "code",
   "execution_count": null,
   "metadata": {},
   "outputs": [],
   "source": [
    "df_medidas_final = pd.concat([df_medidas_level0, df_medidas_resto], axis=0)"
   ]
  },
  {
   "cell_type": "code",
   "execution_count": null,
   "metadata": {},
   "outputs": [],
   "source": [
    "# Dataset balanceado. Misma cantidad de casos con y sin diabetes\n",
    "df_medidas_final.to_csv(data_dir + '/images_binario_224.csv')"
   ]
  },
  {
   "cell_type": "code",
   "execution_count": null,
   "metadata": {},
   "outputs": [],
   "source": [
    "os.makedirs(data_dir + '/images_binario', exist_ok=True)\n",
    "\n",
    "for index, row in df_medidas_final.iterrows():\n",
    "    shutil.copy(data_dir + '/images/' + row['image'] + '.jpeg', data_dir + '/images_binario/' + row['image'] + '.jpeg')"
   ]
  },
  {
   "cell_type": "markdown",
   "metadata": {},
   "source": [
    "---"
   ]
  },
  {
   "cell_type": "code",
   "execution_count": 4,
   "metadata": {},
   "outputs": [],
   "source": [
    "os.makedirs(data_dir + '/images_binario_224', exist_ok=True)\n",
    "os.makedirs(data_dir + '/images_binario_224_bn', exist_ok=True)\n",
    "os.makedirs(data_dir + '/images_binario_448', exist_ok=True)\n",
    "\n",
    "listing = os.listdir(data_dir + \"/images_binario\") \n",
    "\n",
    "from PIL import Image"
   ]
  },
  {
   "cell_type": "code",
   "execution_count": 8,
   "metadata": {},
   "outputs": [],
   "source": [
    "for file in listing:\n",
    "    img = Image.open(data_dir + \"/images_binario/\" + file)\n",
    "    img.resize((224, 224)).save(data_dir + \"/images_binario_224/\" + file)"
   ]
  },
  {
   "cell_type": "code",
   "execution_count": 9,
   "metadata": {},
   "outputs": [],
   "source": [
    "from PIL import Image\n",
    "\n",
    "for file in listing:\n",
    "    img = Image.open(data_dir + \"/images_binario/\" + file)\n",
    "    img.resize((448, 448)).save(data_dir + \"/images_binario_448/\" + file)"
   ]
  },
  {
   "cell_type": "code",
   "execution_count": 5,
   "metadata": {},
   "outputs": [],
   "source": [
    "for file in listing:\n",
    "    img = Image.open(data_dir + \"/images_binario/\" + file).convert('L')\n",
    "    img.resize((224, 224)).save(data_dir + \"/images_binario_224_bn/\" + file)"
   ]
  }
 ],
 "metadata": {
  "kernelspec": {
   "display_name": "Python 3",
   "language": "python",
   "name": "python3"
  },
  "language_info": {
   "codemirror_mode": {
    "name": "ipython",
    "version": 3
   },
   "file_extension": ".py",
   "mimetype": "text/x-python",
   "name": "python",
   "nbconvert_exporter": "python",
   "pygments_lexer": "ipython3",
   "version": "3.7.7"
  }
 },
 "nbformat": 4,
 "nbformat_minor": 4
}
