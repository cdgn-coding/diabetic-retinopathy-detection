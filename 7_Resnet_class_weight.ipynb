{
  "nbformat": 4,
  "nbformat_minor": 0,
  "metadata": {
    "colab": {
      "name": "3_Resnet_class_weight.ipynb",
      "provenance": [],
      "collapsed_sections": [],
      "toc_visible": true
    },
    "kernelspec": {
      "name": "python3",
      "display_name": "Python 3"
    },
    "accelerator": "GPU"
  },
  "cells": [
    {
      "cell_type": "markdown",
      "metadata": {
        "id": "SQRVAKGF0G6H"
      },
      "source": [
        "# Resnet con class weight"
      ]
    },
    {
      "cell_type": "markdown",
      "metadata": {
        "id": "rwsUwH2g0L-l"
      },
      "source": [
        "Como vimos que en los aproach pasados obtuvimos un performance pobre utilizando undersampling, no solo en test sino en train, vemos que hay bias en esos modelos. Por lo cual en este aproach aumentamos la complejidad utilizando resnet y classweight."
      ]
    },
    {
      "cell_type": "code",
      "metadata": {
        "id": "UOT3q3zcz8tF",
        "colab": {
          "base_uri": "https://localhost:8080/"
        },
        "outputId": "de991b2d-b1bd-4315-b777-7f8ba509bd38"
      },
      "source": [
        "!wget https://storage.googleapis.com/diabetic-detection/data_downscaled.zip"
      ],
      "execution_count": null,
      "outputs": [
        {
          "output_type": "stream",
          "text": [
            "--2020-11-15 22:41:34--  https://storage.googleapis.com/diabetic-detection/data_downscaled.zip\n",
            "Resolving storage.googleapis.com (storage.googleapis.com)... 142.250.73.208, 142.250.73.240, 172.217.13.240, ...\n",
            "Connecting to storage.googleapis.com (storage.googleapis.com)|142.250.73.208|:443... connected.\n",
            "HTTP request sent, awaiting response... 200 OK\n",
            "Length: 990385145 (945M) [application/zip]\n",
            "Saving to: ‘data_downscaled.zip’\n",
            "\n",
            "data_downscaled.zip 100%[===================>] 944.50M   100MB/s    in 8.2s    \n",
            "\n",
            "2020-11-15 22:41:42 (115 MB/s) - ‘data_downscaled.zip’ saved [990385145/990385145]\n",
            "\n"
          ],
          "name": "stdout"
        }
      ]
    },
    {
      "cell_type": "code",
      "metadata": {
        "id": "H6escTM10dAM"
      },
      "source": [
        "!unzip -o -q data_downscaled\n",
        "!mv .tmp dataset\n",
        "!mv dataset/raw_dataset_extracted_downscaled data\n",
        "!rm -rf dataset"
      ],
      "execution_count": null,
      "outputs": []
    },
    {
      "cell_type": "code",
      "metadata": {
        "id": "7mge22Za0fHZ",
        "colab": {
          "base_uri": "https://localhost:8080/"
        },
        "outputId": "eff51264-f61e-41fc-9acc-56bcb233caa4"
      },
      "source": [
        "!ls -l data"
      ],
      "execution_count": null,
      "outputs": [
        {
          "output_type": "stream",
          "text": [
            "total 4196\n",
            "drwxr-xr-x 2 root root    4096 Nov  6 05:56 sample\n",
            "-rw-r--r-- 1 root root  709972 Nov  6 05:56 sampleSubmission.csv\n",
            "drwxr-xr-x 2 root root 1929216 Nov  6 04:51 test\n",
            "drwxr-xr-x 2 root root 1183744 Nov  6 05:56 train\n",
            "-rw-r--r-- 1 root root  465317 Nov  6 05:56 trainLabels.csv\n"
          ],
          "name": "stdout"
        }
      ]
    },
    {
      "cell_type": "markdown",
      "metadata": {
        "id": "_kXWg_VA0kFp"
      },
      "source": [
        "## Carga y configuración del dataset"
      ]
    },
    {
      "cell_type": "code",
      "metadata": {
        "id": "QfIk4DGc0hNL"
      },
      "source": [
        "import pandas as pd\n",
        "import numpy as np\n",
        "import os, sys, shutil\n",
        "from sklearn.model_selection import train_test_split"
      ],
      "execution_count": null,
      "outputs": []
    },
    {
      "cell_type": "code",
      "metadata": {
        "id": "8XC6nwiP0ma0"
      },
      "source": [
        "labels = pd.read_csv('data/trainLabels.csv') \\\n",
        "  .sort_values(by = 'image')"
      ],
      "execution_count": null,
      "outputs": []
    },
    {
      "cell_type": "code",
      "metadata": {
        "id": "IZ2C8DIM0n8w",
        "colab": {
          "base_uri": "https://localhost:8080/",
          "height": 282
        },
        "outputId": "5ffb5a29-4eef-4e4d-9c1d-b421af77aa33"
      },
      "source": [
        "labels.level.plot(kind = 'hist')"
      ],
      "execution_count": null,
      "outputs": [
        {
          "output_type": "execute_result",
          "data": {
            "text/plain": [
              "<matplotlib.axes._subplots.AxesSubplot at 0x7f4fd89c7da0>"
            ]
          },
          "metadata": {
            "tags": []
          },
          "execution_count": 6
        },
        {
          "output_type": "display_data",
          "data": {
            "image/png": "[encoded data removed]",
            "text/plain": [
              "<Figure size 432x288 with 1 Axes>"
            ]
          },
          "metadata": {
            "tags": [],
            "needs_background": "light"
          }
        }
      ]
    },
    {
      "cell_type": "code",
      "metadata": {
        "id": "_ZTzxRiu0p0s"
      },
      "source": [
        "train, test = train_test_split(labels, train_size = 0.8, stratify = labels.level, random_state = 42)"
      ],
      "execution_count": null,
      "outputs": []
    },
    {
      "cell_type": "code",
      "metadata": {
        "id": "0hIsiwRl002e",
        "colab": {
          "base_uri": "https://localhost:8080/"
        },
        "outputId": "72887bd7-0048-4475-f1a0-52c7a0e9cf9f"
      },
      "source": [
        "train.shape[0], test.shape[0]"
      ],
      "execution_count": null,
      "outputs": [
        {
          "output_type": "execute_result",
          "data": {
            "text/plain": [
              "(28100, 7026)"
            ]
          },
          "metadata": {
            "tags": []
          },
          "execution_count": 8
        }
      ]
    },
    {
      "cell_type": "code",
      "metadata": {
        "id": "9p7dliu202wn"
      },
      "source": [
        "label_names = {\n",
        "  0: 'No DR',\n",
        "  1: 'Mild',\n",
        "  2: 'Moderate',\n",
        "  3: 'Severe',\n",
        "  4: 'Proliferative DR'\n",
        "}"
      ],
      "execution_count": null,
      "outputs": []
    },
    {
      "cell_type": "code",
      "metadata": {
        "id": "6PHSoYQX05AQ"
      },
      "source": [
        "flow_dataset_dir = 'data/flow_dataset'\n",
        "images_dataset_dir = 'data/train'\n",
        "\n",
        "def create_directory_flow(df, subset_name):\n",
        "  for _, row in df.iterrows():\n",
        "    item = row.image\n",
        "    level = row['level']\n",
        "    label_name = label_names[level]\n",
        "    ext = '.jpeg'\n",
        "    orig_file = os.path.join(images_dataset_dir, item + ext)\n",
        "    os.makedirs(os.path.join(flow_dataset_dir, subset_name, label_name), exist_ok=True)\n",
        "    dest_file = os.path.join(flow_dataset_dir, subset_name, label_name, item + ext)\n",
        "    shutil.copy(orig_file, dest_file)"
      ],
      "execution_count": null,
      "outputs": []
    },
    {
      "cell_type": "code",
      "metadata": {
        "id": "GTg-pRb21BXR"
      },
      "source": [
        "create_directory_flow(train, 'train')\n",
        "create_directory_flow(test, 'validation')"
      ],
      "execution_count": null,
      "outputs": []
    },
    {
      "cell_type": "code",
      "metadata": {
        "id": "11ftohI41DCw",
        "colab": {
          "base_uri": "https://localhost:8080/"
        },
        "outputId": "6f01f9a1-1e35-4823-8c5f-38c70afb79c5"
      },
      "source": [
        "!ls -l data/flow_dataset\n",
        "!ls -l data/flow_dataset/train\n",
        "!ls -l data/flow_dataset/validation"
      ],
      "execution_count": null,
      "outputs": [
        {
          "output_type": "stream",
          "text": [
            "total 8\n",
            "drwxr-xr-x 7 root root 4096 Nov 15 22:42 train\n",
            "drwxr-xr-x 7 root root 4096 Nov 15 22:42 validation\n",
            "total 980\n",
            "drwxr-xr-x 2 root root  69632 Nov 15 22:42  Mild\n",
            "drwxr-xr-x 2 root root 135168 Nov 15 22:42  Moderate\n",
            "drwxr-xr-x 2 root root 720896 Nov 15 22:42 'No DR'\n",
            "drwxr-xr-x 2 root root  24576 Nov 15 22:42 'Proliferative DR'\n",
            "drwxr-xr-x 2 root root  32768 Nov 15 22:42  Severe\n",
            "total 256\n",
            "drwxr-xr-x 2 root root  20480 Nov 15 22:42  Mild\n",
            "drwxr-xr-x 2 root root  36864 Nov 15 22:42  Moderate\n",
            "drwxr-xr-x 2 root root 180224 Nov 15 22:42 'No DR'\n",
            "drwxr-xr-x 2 root root   4096 Nov 15 22:42 'Proliferative DR'\n",
            "drwxr-xr-x 2 root root  12288 Nov 15 22:42  Severe\n"
          ],
          "name": "stdout"
        }
      ]
    },
    {
      "cell_type": "markdown",
      "metadata": {
        "id": "jw2RObCD3B1x"
      },
      "source": [
        "## Confección del modelo"
      ]
    },
    {
      "cell_type": "code",
      "metadata": {
        "id": "03UmYl2e3ty6"
      },
      "source": [
        "from tensorflow.keras.preprocessing.image import ImageDataGenerator\n",
        "from tensorflow.keras.applications import ResNet50\n",
        "from tensorflow.keras.layers import GlobalAveragePooling2D, Input, Dense, Dropout\n",
        "from tensorflow.keras.models import Model\n",
        "from tensorflow.keras.callbacks import EarlyStopping, ModelCheckpoint\n",
        "from tensorflow.keras.metrics import AUC, FalseNegatives, TruePositives\n",
        "from tensorflow.keras import optimizers"
      ],
      "execution_count": null,
      "outputs": []
    },
    {
      "cell_type": "code",
      "metadata": {
        "id": "NTx2501v5aOE"
      },
      "source": [
        "image_size = (448, 448)\n",
        "image_shape = (448, 448, 3)\n",
        "batch_size = 128"
      ],
      "execution_count": null,
      "outputs": []
    },
    {
      "cell_type": "code",
      "metadata": {
        "id": "ROLavb7M1gtt",
        "colab": {
          "base_uri": "https://localhost:8080/"
        },
        "outputId": "2aeae187-fe43-4e0f-98cf-b36e846a0e43"
      },
      "source": [
        "train_path = os.path.join('data', 'flow_dataset', 'train')\n",
        "validation_path = os.path.join('data', 'flow_dataset', 'validation')\n",
        "\n",
        "train_datagen = ImageDataGenerator(\n",
        "    rescale=1./255,\n",
        "    horizontal_flip=False,\n",
        "    zoom_range = .1\n",
        ")\n",
        "test_datagen = ImageDataGenerator(rescale=1./255)\n",
        "\n",
        "kwargs = {\n",
        "  'target_size': image_size,\n",
        "  'batch_size': batch_size,\n",
        "  'class_mode': 'categorical',\n",
        "  'classes': label_names.values()\n",
        "}\n",
        "train_generator = train_datagen.flow_from_directory(train_path, **kwargs)\n",
        "validation_generator = test_datagen.flow_from_directory(validation_path, **kwargs)"
      ],
      "execution_count": null,
      "outputs": [
        {
          "output_type": "stream",
          "text": [
            "Found 28100 images belonging to 5 classes.\n",
            "Found 7026 images belonging to 5 classes.\n"
          ],
          "name": "stdout"
        }
      ]
    },
    {
      "cell_type": "code",
      "metadata": {
        "id": "mLMS4tLI3ru6"
      },
      "source": [
        "def create_resnet50_model(\n",
        "    resnet_weights = None,\n",
        "    optimizer = 'adam',\n",
        "    metrics = [\n",
        "      'accuracy',\n",
        "      AUC(name = 'auc'),\n",
        "      FalseNegatives(name = 'false_positives'),\n",
        "      TruePositives(name = 'true_positives')]):\n",
        "  inputs = Input(shape=image_shape)\n",
        "\n",
        "  # First big block is ResNet50\n",
        "  resnet_args = {\n",
        "      'input_shape': image_shape,\n",
        "      'include_top': False,\n",
        "      'weights': resnet_weights\n",
        "  }\n",
        "\n",
        "  conv_resnet50 = ResNet50(**resnet_args)\n",
        "  if resnet_weights is not None: \n",
        "    conv_resnet50.trainable = False\n",
        "\n",
        "  outputs = conv_resnet50(inputs)\n",
        "  outputs = GlobalAveragePooling2D()(outputs)\n",
        "  outputs = Dense(128, activation='relu')(outputs)\n",
        "  outputs = Dropout(0.3)(outputs)\n",
        "  outputs = Dense(64, activation='relu')(outputs)\n",
        "  outputs = Dense(5, activation = 'softmax')(outputs)\n",
        "\n",
        "  model = Model(inputs, outputs)\n",
        "  model.compile(optimizer=optimizer, loss='categorical_crossentropy', metrics=metrics)\n",
        "  return model"
      ],
      "execution_count": null,
      "outputs": []
    },
    {
      "cell_type": "code",
      "metadata": {
        "id": "5yd6pzP57Px7"
      },
      "source": [
        "class_weight = (1 / train.level.value_counts(normalize = True)).to_dict()"
      ],
      "execution_count": null,
      "outputs": []
    },
    {
      "cell_type": "code",
      "metadata": {
        "id": "RMdiP-Ba88h3",
        "colab": {
          "base_uri": "https://localhost:8080/",
          "height": 279
        },
        "outputId": "eb72578e-37dc-4ecd-8a58-69be72e7ca57"
      },
      "source": [
        "(1 / train.level.value_counts(normalize = True)).plot(kind = 'bar')"
      ],
      "execution_count": null,
      "outputs": [
        {
          "output_type": "execute_result",
          "data": {
            "text/plain": [
              "<matplotlib.axes._subplots.AxesSubplot at 0x7f4fd88e5f60>"
            ]
          },
          "metadata": {
            "tags": []
          },
          "execution_count": 18
        },
        {
          "output_type": "display_data",
          "data": {
            "image/png": "[encoded data removed]",
            "text/plain": [
              "<Figure size 432x288 with 1 Axes>"
            ]
          },
          "metadata": {
            "tags": [],
            "needs_background": "light"
          }
        }
      ]
    },
    {
      "cell_type": "code",
      "metadata": {
        "id": "dwGQ9heY7no2",
        "colab": {
          "base_uri": "https://localhost:8080/"
        },
        "outputId": "a262d1ce-e716-4f97-9806-8a54194e180e"
      },
      "source": [
        "resnet50_model = create_resnet50_model(resnet_weights = 'imagenet', optimizer=optimizers.RMSprop(lr=1e-3))"
      ],
      "execution_count": null,
      "outputs": [
        {
          "output_type": "stream",
          "text": [
            "Downloading data from https://storage.googleapis.com/tensorflow/keras-applications/resnet/resnet50_weights_tf_dim_ordering_tf_kernels_notop.h5\n",
            "94773248/94765736 [==============================] - 0s 0us/step\n"
          ],
          "name": "stdout"
        }
      ]
    },
    {
      "cell_type": "code",
      "metadata": {
        "id": "HggY3oYj8IJ7"
      },
      "source": [
        "from tensorflow.keras.callbacks import EarlyStopping, ModelCheckpoint\n",
        "\n",
        "monitor_loss = EarlyStopping(monitor='val_loss', min_delta=0.001, patience=4,\n",
        "                             restore_best_weights=True, verbose=1)\n",
        "!mkdir -p resnet50_checkpoints\n",
        "\n",
        "checkpoints_path = 'resnet50_checkpoints/weights.{epoch:02d}-{val_loss:.2f}.h5'\n",
        "checkpoint = ModelCheckpoint(checkpoints_path, monitor='val_loss', verbose=0,\n",
        "                             save_best_only=True, save_weights_only=False, mode='auto')\n",
        "\n",
        "callbacks = [monitor_loss, checkpoint]"
      ],
      "execution_count": null,
      "outputs": []
    },
    {
      "cell_type": "code",
      "metadata": {
        "id": "dbsov-Vk9l69",
        "colab": {
          "base_uri": "https://localhost:8080/"
        },
        "outputId": "74eb8b2c-28e1-4fb6-eb9f-b041b8535091"
      },
      "source": [
        "# Entrenamos nuestro modelo\n",
        "history = resnet50_model.fit(train_generator,\n",
        "  steps_per_epoch=train_generator.n//train_generator.batch_size,\n",
        "  epochs=30,\n",
        "  validation_data=validation_generator,\n",
        "  validation_steps=validation_generator.n//validation_generator.batch_size,\n",
        "  class_weight=class_weight,\n",
        "  callbacks=callbacks)"
      ],
      "execution_count": null,
      "outputs": [
        {
          "output_type": "stream",
          "text": [
            "Epoch 1/30\n",
            "219/219 [==============================] - 1274s 6s/step - loss: 8.1854 - accuracy: 0.3053 - auc: 0.5584 - false_positives: 27874.0000 - true_positives: 98.0000 - val_loss: 1.6010 - val_accuracy: 0.7358 - val_auc: 0.7256 - val_false_positives: 6912.0000 - val_true_positives: 0.0000e+00\n",
            "Epoch 2/30\n",
            "219/219 [==============================] - 1219s 6s/step - loss: 8.0459 - accuracy: 0.5028 - auc: 0.6659 - false_positives: 27972.0000 - true_positives: 0.0000e+00 - val_loss: 1.6054 - val_accuracy: 0.1510 - val_auc: 0.6909 - val_false_positives: 6912.0000 - val_true_positives: 0.0000e+00\n",
            "Epoch 3/30\n",
            "219/219 [==============================] - 1220s 6s/step - loss: 8.0564 - accuracy: 0.2085 - auc: 0.5384 - false_positives: 27972.0000 - true_positives: 0.0000e+00 - val_loss: 1.6079 - val_accuracy: 0.1506 - val_auc: 0.4691 - val_false_positives: 6912.0000 - val_true_positives: 0.0000e+00\n",
            "Epoch 4/30\n",
            "219/219 [==============================] - 1220s 6s/step - loss: 8.0470 - accuracy: 0.3762 - auc: 0.6188 - false_positives: 27972.0000 - true_positives: 0.0000e+00 - val_loss: 1.6063 - val_accuracy: 0.7341 - val_auc: 0.5001 - val_false_positives: 6912.0000 - val_true_positives: 0.0000e+00\n",
            "Epoch 5/30\n",
            "219/219 [==============================] - ETA: 0s - loss: 8.0372 - accuracy: 0.5414 - auc: 0.7401 - false_positives: 27972.0000 - true_positives: 0.0000e+00Restoring model weights from the end of the best epoch.\n",
            "219/219 [==============================] - 1216s 6s/step - loss: 8.0372 - accuracy: 0.5414 - auc: 0.7401 - false_positives: 27972.0000 - true_positives: 0.0000e+00 - val_loss: 1.6071 - val_accuracy: 0.0693 - val_auc: 0.4183 - val_false_positives: 6912.0000 - val_true_positives: 0.0000e+00\n",
            "Epoch 00005: early stopping\n"
          ],
          "name": "stdout"
        }
      ]
    },
    {
      "cell_type": "code",
      "metadata": {
        "id": "uofY9ktoLCx6"
      },
      "source": [
        "import matplotlib.pyplot as plt"
      ],
      "execution_count": null,
      "outputs": []
    },
    {
      "cell_type": "code",
      "metadata": {
        "id": "X9LRlpdm97Gn",
        "colab": {
          "base_uri": "https://localhost:8080/",
          "height": 295
        },
        "outputId": "9148fedd-86cc-4077-b5e5-17c5e20b5105"
      },
      "source": [
        "# summarize history for accuracy\n",
        "plt.plot(history.history['accuracy'])\n",
        "plt.plot(history.history['val_accuracy'])\n",
        "plt.title('model accuracy')\n",
        "plt.ylabel('accuracy')\n",
        "plt.xlabel('epoch')\n",
        "plt.legend(['train', 'test'], loc='upper left')\n",
        "plt.show()"
      ],
      "execution_count": null,
      "outputs": [
        {
          "output_type": "display_data",
          "data": {
            "image/png": "[encoded data removed]",
            "text/plain": [
              "<Figure size 432x288 with 1 Axes>"
            ]
          },
          "metadata": {
            "tags": [],
            "needs_background": "light"
          }
        }
      ]
    },
    {
      "cell_type": "code",
      "metadata": {
        "id": "Hg-o73Ctjgtv",
        "colab": {
          "base_uri": "https://localhost:8080/",
          "height": 295
        },
        "outputId": "4d1a00f4-ca6e-4974-a0fc-7718b47814ae"
      },
      "source": [
        "plt.plot(history.history['loss'])\n",
        "plt.plot(history.history['val_loss'])\n",
        "plt.title('model loss')\n",
        "plt.ylabel('loss')\n",
        "plt.xlabel('epoch')\n",
        "plt.legend(['train', 'test'], loc='upper left')\n",
        "plt.show()"
      ],
      "execution_count": null,
      "outputs": [
        {
          "output_type": "display_data",
          "data": {
            "image/png": "[encoded data removed]",
            "text/plain": [
              "<Figure size 432x288 with 1 Axes>"
            ]
          },
          "metadata": {
            "tags": [],
            "needs_background": "light"
          }
        }
      ]
    },
    {
      "cell_type": "code",
      "metadata": {
        "id": "VPpTLtUejiTP",
        "colab": {
          "base_uri": "https://localhost:8080/"
        },
        "outputId": "5182f6cf-e059-4f0d-fffd-95b9c240477d"
      },
      "source": [
        "y_preds = resnet50_model.predict_generator(\n",
        "    validation_generator,\n",
        "    len(validation_generator)\n",
        ")\n",
        "\n",
        "y_preds_labels = np.argmax(y_preds, axis=1)"
      ],
      "execution_count": null,
      "outputs": [
        {
          "output_type": "stream",
          "text": [
            "WARNING:tensorflow:From <ipython-input-25-3f00d51cac24>:3: Model.predict_generator (from tensorflow.python.keras.engine.training) is deprecated and will be removed in a future version.\n",
            "Instructions for updating:\n",
            "Please use Model.predict, which supports generators.\n"
          ],
          "name": "stdout"
        }
      ]
    },
    {
      "cell_type": "code",
      "metadata": {
        "id": "pdhiubqGL9OG"
      },
      "source": [
        "from sklearn.metrics import classification_report, confusion_matrix, balanced_accuracy_score\n",
        "import seaborn as sns"
      ],
      "execution_count": null,
      "outputs": []
    },
    {
      "cell_type": "code",
      "metadata": {
        "id": "8-VxMfGpLyo6",
        "colab": {
          "base_uri": "https://localhost:8080/"
        },
        "outputId": "6fe6187c-c7a6-4f2f-858a-4e16b9de430e"
      },
      "source": [
        "print(confusion_matrix(validation_generator.classes, y_preds_labels))"
      ],
      "execution_count": null,
      "outputs": [
        {
          "output_type": "stream",
          "text": [
            "[[5162    0    0    0    0]\n",
            " [ 489    0    0    0    0]\n",
            " [1058    0    0    0    0]\n",
            " [ 175    0    0    0    0]\n",
            " [ 142    0    0    0    0]]\n"
          ],
          "name": "stdout"
        }
      ]
    },
    {
      "cell_type": "code",
      "metadata": {
        "id": "2aO3A-oXM-H-",
        "colab": {
          "base_uri": "https://localhost:8080/"
        },
        "outputId": "c9dc3df8-e70a-4daf-a9bd-c80b1e3ca1e5"
      },
      "source": [
        "print(classification_report(validation_generator.classes, y_preds_labels))"
      ],
      "execution_count": null,
      "outputs": [
        {
          "output_type": "stream",
          "text": [
            "              precision    recall  f1-score   support\n",
            "\n",
            "           0       0.73      1.00      0.85      5162\n",
            "           1       0.00      0.00      0.00       489\n",
            "           2       0.00      0.00      0.00      1058\n",
            "           3       0.00      0.00      0.00       175\n",
            "           4       0.00      0.00      0.00       142\n",
            "\n",
            "    accuracy                           0.73      7026\n",
            "   macro avg       0.15      0.20      0.17      7026\n",
            "weighted avg       0.54      0.73      0.62      7026\n",
            "\n"
          ],
          "name": "stdout"
        },
        {
          "output_type": "stream",
          "text": [
            "/usr/local/lib/python3.6/dist-packages/sklearn/metrics/_classification.py:1272: UndefinedMetricWarning: Precision and F-score are ill-defined and being set to 0.0 in labels with no predicted samples. Use `zero_division` parameter to control this behavior.\n",
            "  _warn_prf(average, modifier, msg_start, len(result))\n"
          ],
          "name": "stderr"
        }
      ]
    },
    {
      "cell_type": "code",
      "metadata": {
        "id": "BQUYcxNBM__t",
        "colab": {
          "base_uri": "https://localhost:8080/"
        },
        "outputId": "dc82d75d-f51b-4d31-e10b-18919a140878"
      },
      "source": [
        "balanced_accuracy_score(validation_generator.classes, y_preds_labels)"
      ],
      "execution_count": null,
      "outputs": [
        {
          "output_type": "execute_result",
          "data": {
            "text/plain": [
              "0.2"
            ]
          },
          "metadata": {
            "tags": []
          },
          "execution_count": 30
        }
      ]
    },
    {
      "cell_type": "markdown",
      "metadata": {
        "id": "fS99KPVkQMAl"
      },
      "source": [
        "Vemos que el modelo predice siempre la clase 2 a todas las imagenes"
      ]
    },
    {
      "cell_type": "markdown",
      "metadata": {
        "id": "daswtzoESWj7"
      },
      "source": [
        ""
      ]
    }
  ]
}