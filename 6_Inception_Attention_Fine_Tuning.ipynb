{
  "nbformat": 4,
  "nbformat_minor": 0,
  "metadata": {
    "accelerator": "GPU",
    "colab": {
      "name": "InceptionBinary.ipynb",
      "provenance": [],
      "collapsed_sections": [],
      "toc_visible": true
    },
    "kernelspec": {
      "display_name": "Python 3",
      "name": "python3"
    }
  },
  "cells": [
    {
      "cell_type": "markdown",
      "metadata": {
        "id": "Lcv1Mh3G_VeH"
      },
      "source": [
        "## Carga del dataset"
      ]
    },
    {
      "cell_type": "code",
      "metadata": {
        "id": "GeVkH-rt_VD2"
      },
      "source": [
        "import pandas as pd\n",
        "import numpy as np\n",
        "import os, sys, shutil"
      ],
      "execution_count": null,
      "outputs": []
    },
    {
      "cell_type": "markdown",
      "metadata": {
        "id": "bCm-QX94Eb2w"
      },
      "source": [
        "# Load original state data"
      ]
    },
    {
      "cell_type": "code",
      "metadata": {
        "colab": {
          "base_uri": "https://localhost:8080/"
        },
        "id": "gC7DILxLCEWs",
        "outputId": "0db88ec4-549f-4121-d297-f42f870ffa19"
      },
      "source": [
        "!wget https://storage.googleapis.com/diabetic-detection/data_downscaled.zip\n",
        "!unzip -o -q data_downscaled\n",
        "!mv .tmp original"
      ],
      "execution_count": null,
      "outputs": [
        {
          "output_type": "stream",
          "text": [
            "--2020-11-23 15:47:41--  https://storage.googleapis.com/diabetic-detection/data_downscaled.zip\n",
            "Resolving storage.googleapis.com (storage.googleapis.com)... 64.233.189.128, 108.177.97.128, 108.177.125.128, ...\n",
            "Connecting to storage.googleapis.com (storage.googleapis.com)|64.233.189.128|:443... connected.\n",
            "HTTP request sent, awaiting response... 200 OK\n",
            "Length: 990385145 (945M) [application/zip]\n",
            "Saving to: ‘data_downscaled.zip’\n",
            "\n",
            "data_downscaled.zip 100%[===================>] 944.50M  66.2MB/s    in 16s     \n",
            "\n",
            "2020-11-23 15:47:59 (60.7 MB/s) - ‘data_downscaled.zip’ saved [990385145/990385145]\n",
            "\n"
          ],
          "name": "stdout"
        }
      ]
    },
    {
      "cell_type": "code",
      "metadata": {
        "id": "xbtPZJoCCPib"
      },
      "source": [
        "!mkdir data\n",
        "!mkdir data/original"
      ],
      "execution_count": null,
      "outputs": []
    },
    {
      "cell_type": "code",
      "metadata": {
        "id": "gLtfZrLt-GKj"
      },
      "source": [
        "!mv /content/original/raw_dataset_extracted_downscaled /content/data/original"
      ],
      "execution_count": null,
      "outputs": []
    },
    {
      "cell_type": "code",
      "metadata": {
        "id": "piSSGItDCX8w"
      },
      "source": [
        "!mkdir /content/data/dataframes && mv /content/data/original/raw_dataset_extracted_downscaled/trainLabels.csv /content/data/dataframes"
      ],
      "execution_count": null,
      "outputs": []
    },
    {
      "cell_type": "code",
      "metadata": {
        "colab": {
          "base_uri": "https://localhost:8080/"
        },
        "id": "5Utv8oBj-i6h",
        "outputId": "993fbf91-761a-4e49-b687-a6ce36c9f825"
      },
      "source": [
        "labels = pd.read_csv('data/dataframes/trainLabels.csv')\n",
        "valuesWithE = labels.loc[labels['level'] >= 1]\n",
        "valuesNeutral = labels.loc[labels['level'] == 0]\n",
        "\n",
        "print(len(valuesNeutral))\n",
        "print(len(valuesWithE))\n",
        "\n",
        "sampledNeutral = valuesNeutral.sample(len(valuesWithE), random_state=44)\n",
        "print(len(sampledNeutral))\n",
        "\n",
        "sampled = pd.concat([valuesWithE, sampledNeutral])\n",
        "sampled = sampled.sample(frac=1).reset_index(drop=True)\n",
        "print(len(sampled))"
      ],
      "execution_count": null,
      "outputs": [
        {
          "output_type": "stream",
          "text": [
            "25810\n",
            "9316\n",
            "9316\n",
            "18632\n"
          ],
          "name": "stdout"
        }
      ]
    },
    {
      "cell_type": "code",
      "metadata": {
        "id": "kTCo6A1SC2IG"
      },
      "source": [
        "!rm -rf resampled\n",
        "!mkdir resampled\n",
        "!mkdir resampled/original\n",
        "!mkdir resampled/preprocessed"
      ],
      "execution_count": null,
      "outputs": []
    },
    {
      "cell_type": "code",
      "metadata": {
        "id": "Ljmm_TCuAMV-"
      },
      "source": [
        "def create_directory_flow(df, subset_name, base, dest, imageType):\n",
        "  k = 0\n",
        "  for _, row in df.iterrows():\n",
        "    item = row.image\n",
        "    level = row['level']\n",
        "    basedir = base\n",
        "    destDir = dest\n",
        "    ext = '.jpeg'\n",
        "    k = k+1\n",
        "    orig_file = os.path.join(basedir, item + ext)\n",
        "    if level == 0:\n",
        "      os.makedirs(os.path.join(destDir, subset_name, 'No DR'), exist_ok=True)\n",
        "      dest_file = os.path.join(destDir, subset_name, 'No DR', item +str(k) + ext)\n",
        "      shutil.copy(orig_file, dest_file)\n",
        "    else:\n",
        "      os.makedirs(os.path.join(destDir, subset_name, 'DR'), exist_ok=True)\n",
        "      dest_file = os.path.join(destDir, subset_name, 'DR', item +str(k) + ext)\n",
        "      shutil.copy(orig_file, dest_file)"
      ],
      "execution_count": null,
      "outputs": []
    },
    {
      "cell_type": "code",
      "metadata": {
        "id": "RTgYJwdw_PeB"
      },
      "source": [
        "# Copy resampled original\n",
        "from sklearn.model_selection import train_test_split\n",
        "\n",
        "from sklearn.model_selection import train_test_split\n",
        "train, test = train_test_split(sampled, train_size = 0.8, random_state=44, stratify=sampled.level)\n",
        "test, val = train_test_split(test, test_size=0.5, random_state=44, stratify=test.level)\n",
        "\n",
        "create_directory_flow(train,\n",
        "                      'train',\n",
        "                      'data/original/raw_dataset_extracted_downscaled/train',\n",
        "                      'resampled/original',\n",
        "                      'left')\n",
        "\n",
        "create_directory_flow(val,\n",
        "                      'validation',\n",
        "                      'data/original/raw_dataset_extracted_downscaled/train',\n",
        "                      'resampled/original',\n",
        "                      'left')\n",
        "\n",
        "create_directory_flow(test,\n",
        "                      'test',\n",
        "                      'data/original/raw_dataset_extracted_downscaled/train',\n",
        "                      'resampled/original',\n",
        "                      'left')"
      ],
      "execution_count": null,
      "outputs": []
    },
    {
      "cell_type": "code",
      "metadata": {
        "colab": {
          "base_uri": "https://localhost:8080/"
        },
        "id": "Y_oM29leKgbG",
        "outputId": "084eb30c-063c-4dd6-dfc4-ddb111ffb2b8"
      },
      "source": [
        "from tensorflow.keras.preprocessing.image import ImageDataGenerator\n",
        "from keras.applications.inception_v3 import preprocess_input\n",
        "\n",
        "import cv2\n",
        "\n",
        "img_shape = (224, 224)\n",
        "train_path = os.path.join('/content/resampled', 'original', 'train')\n",
        "validation_path = os.path.join('/content/resampled','original', 'validation')\n",
        "test_path = os.path.join('/content/resampled','original', 'test')\n",
        "\n",
        "# Reescalamos todas las imágenes en un factor de 1./255\n",
        "train_datagen = ImageDataGenerator(\n",
        "    rescale=1/255,\n",
        "    horizontal_flip=True,\n",
        "    vertical_flip=True,\n",
        ")\n",
        "val_datagen = ImageDataGenerator(rescale=1./255)\n",
        "test_datagen = ImageDataGenerator(rescale=1./255)\n",
        "\n",
        "# La función flow_from_directory() toma el path a un directorio\n",
        "# y genera batches de data a la que aplica las transformaciones definidas\n",
        "train_generator = train_datagen.flow_from_directory(\n",
        "        train_path,\n",
        "        target_size=img_shape,\n",
        "        batch_size=128,\n",
        "        class_mode='binary')\n",
        "\n",
        "validation_generator = val_datagen.flow_from_directory(\n",
        "        validation_path,\n",
        "        target_size=img_shape,\n",
        "        batch_size=128,\n",
        "        shuffle=False,\n",
        "        class_mode='binary')\n",
        "\n",
        "test_generator = test_datagen.flow_from_directory(\n",
        "        test_path,\n",
        "        target_size=img_shape,\n",
        "        batch_size=128,\n",
        "        shuffle=False,\n",
        "        class_mode='binary')"
      ],
      "execution_count": null,
      "outputs": [
        {
          "output_type": "stream",
          "text": [
            "Found 14905 images belonging to 2 classes.\n",
            "Found 1864 images belonging to 2 classes.\n",
            "Found 1863 images belonging to 2 classes.\n"
          ],
          "name": "stdout"
        }
      ]
    },
    {
      "cell_type": "code",
      "metadata": {
        "colab": {
          "base_uri": "https://localhost:8080/"
        },
        "id": "V-8qG4kFo2XU",
        "outputId": "d03bf13d-d15d-4011-87e4-c94d73837b99"
      },
      "source": [
        "train_generator.class_indices"
      ],
      "execution_count": null,
      "outputs": [
        {
          "output_type": "execute_result",
          "data": {
            "text/plain": [
              "{'DR': 0, 'No DR': 1}"
            ]
          },
          "metadata": {
            "tags": []
          },
          "execution_count": 238
        }
      ]
    },
    {
      "cell_type": "code",
      "metadata": {
        "colab": {
          "base_uri": "https://localhost:8080/"
        },
        "id": "y1B-erQyexXv",
        "outputId": "424de1f9-8742-4ea5-ac32-aa2fcf6adb41"
      },
      "source": [
        "len(train_generator.classes)"
      ],
      "execution_count": null,
      "outputs": [
        {
          "output_type": "execute_result",
          "data": {
            "text/plain": [
              "14905"
            ]
          },
          "metadata": {
            "tags": []
          },
          "execution_count": 239
        }
      ]
    },
    {
      "cell_type": "code",
      "metadata": {
        "id": "fYFnaaUecJRf"
      },
      "source": [
        "def attention(bn, pt_depth):\n",
        "  attn_layer = Conv2D(64, kernel_size = (1,1), padding = 'same', activation = 'relu')(bn)\n",
        "  attn_layer = Conv2D(16, kernel_size = (1,1), padding = 'same', activation = 'relu')(attn_layer)\n",
        "  attn_layer = LocallyConnected2D(1, kernel_size = (1,1), padding = 'valid', activation = 'sigmoid')(attn_layer)\n",
        "  up_c2_w = np.ones((1, 1, 1, pt_depth))\n",
        "  up_c2 = Conv2D(pt_depth, kernel_size = (1,1), padding = 'same', activation = 'linear', use_bias = False, weights = [up_c2_w])\n",
        "  up_c2.trainable = False\n",
        "  attn_layer = up_c2(attn_layer)\n",
        "  mask_features = multiply([attn_layer, bn])\n",
        "  gap_features = GlobalAveragePooling2D()(mask_features)\n",
        "  gap_mask = GlobalAveragePooling2D()(attn_layer)\n",
        "  return Lambda(lambda x: x[0]/x[1])([gap_features, gap_mask])\n"
      ],
      "execution_count": null,
      "outputs": []
    },
    {
      "cell_type": "code",
      "metadata": {
        "id": "H6x5kWK0JZAX"
      },
      "source": [
        "from tensorflow.keras.applications import InceptionV3\n",
        "\n",
        "from tensorflow.keras.models import Model\n",
        "\n",
        "from tensorflow.keras.layers import BatchNormalization, LocallyConnected2D\n",
        "from tensorflow.keras.layers import Flatten, Input, Conv2D, multiply\n",
        "from tensorflow.keras.layers import GlobalAveragePooling2D, Dense, Dropout\n",
        "from tensorflow.keras.layers import Lambda, GlobalMaxPooling2D, Concatenate, MaxPooling2D\n",
        "\n",
        "(w, h) = img_shape\n",
        "input_shape = [w, h, 3]\n",
        "\n",
        "input_layer = Input(input_shape)\n",
        "inception = InceptionV3(input_shape=input_shape,\n",
        "                                          include_top = False,\n",
        "                                          weights='imagenet')\n",
        "\n",
        "x = inception(input_layer)\n",
        "\n",
        "x = Conv2D(128, (3, 3),\n",
        "                      activation='relu',\n",
        "                      padding='same',\n",
        "                      name='block1_conv1')(x)\n",
        "x = Conv2D(128, (3, 3),\n",
        "                  activation='relu',\n",
        "                  padding='same',\n",
        "                  name='block1_conv2')(x)\n",
        "pt_features = MaxPooling2D((2, 2), strides=(2, 2), name='block1_pool')(x)\n",
        "\n",
        "pt_features1 = GlobalAveragePooling2D()(pt_features)\n",
        "pt_features2 = GlobalMaxPooling2D()(pt_features)\n",
        "pt_features3 = attention(pt_features, 128)\n",
        "\n",
        "pt_features = Concatenate()([pt_features1, pt_features2, pt_features3])\n",
        "\n",
        "pt_features = Dense(128, activation = \"relu\")(pt_features)\n",
        "classification_layer = Dense(1, activation = \"sigmoid\")(pt_features)\n",
        "\n",
        "retina_model = Model(inputs=[input_layer], outputs=[classification_layer])\n"
      ],
      "execution_count": 317,
      "outputs": []
    },
    {
      "cell_type": "code",
      "metadata": {
        "colab": {
          "base_uri": "https://localhost:8080/"
        },
        "id": "OxkUNQDJ_Qxz",
        "outputId": "ed70f2b6-40c9-4b11-c1de-f8c58361df47"
      },
      "source": [
        "retina_model.summary()"
      ],
      "execution_count": 318,
      "outputs": [
        {
          "output_type": "stream",
          "text": [
            "Model: \"functional_82\"\n",
            "__________________________________________________________________________________________________\n",
            "Layer (type)                    Output Shape         Param #     Connected to                     \n",
            "==================================================================================================\n",
            "input_115 (InputLayer)          [(None, 224, 224, 3) 0                                            \n",
            "__________________________________________________________________________________________________\n",
            "inception_v3 (Functional)       (None, 5, 5, 2048)   21802784    input_115[0][0]                  \n",
            "__________________________________________________________________________________________________\n",
            "block1_conv1 (Conv2D)           (None, 5, 5, 128)    2359424     inception_v3[0][0]               \n",
            "__________________________________________________________________________________________________\n",
            "block1_conv2 (Conv2D)           (None, 5, 5, 128)    147584      block1_conv1[0][0]               \n",
            "__________________________________________________________________________________________________\n",
            "block1_pool (MaxPooling2D)      (None, 2, 2, 128)    0           block1_conv2[0][0]               \n",
            "__________________________________________________________________________________________________\n",
            "conv2d_8725 (Conv2D)            (None, 2, 2, 64)     8256        block1_pool[0][0]                \n",
            "__________________________________________________________________________________________________\n",
            "conv2d_8726 (Conv2D)            (None, 2, 2, 16)     1040        conv2d_8725[0][0]                \n",
            "__________________________________________________________________________________________________\n",
            "locally_connected2d_43 (Locally (None, 2, 2, 1)      68          conv2d_8726[0][0]                \n",
            "__________________________________________________________________________________________________\n",
            "conv2d_8727 (Conv2D)            (None, 2, 2, 128)    128         locally_connected2d_43[0][0]     \n",
            "__________________________________________________________________________________________________\n",
            "multiply_43 (Multiply)          (None, 2, 2, 128)    0           conv2d_8727[0][0]                \n",
            "                                                                 block1_pool[0][0]                \n",
            "__________________________________________________________________________________________________\n",
            "global_average_pooling2d_119 (G (None, 128)          0           multiply_43[0][0]                \n",
            "__________________________________________________________________________________________________\n",
            "global_average_pooling2d_120 (G (None, 128)          0           conv2d_8727[0][0]                \n",
            "__________________________________________________________________________________________________\n",
            "global_average_pooling2d_118 (G (None, 128)          0           block1_pool[0][0]                \n",
            "__________________________________________________________________________________________________\n",
            "global_max_pooling2d_44 (Global (None, 128)          0           block1_pool[0][0]                \n",
            "__________________________________________________________________________________________________\n",
            "lambda_37 (Lambda)              (None, 128)          0           global_average_pooling2d_119[0][0\n",
            "                                                                 global_average_pooling2d_120[0][0\n",
            "__________________________________________________________________________________________________\n",
            "concatenate_83 (Concatenate)    (None, 384)          0           global_average_pooling2d_118[0][0\n",
            "                                                                 global_max_pooling2d_44[0][0]    \n",
            "                                                                 lambda_37[0][0]                  \n",
            "__________________________________________________________________________________________________\n",
            "dense_82 (Dense)                (None, 128)          49280       concatenate_83[0][0]             \n",
            "__________________________________________________________________________________________________\n",
            "dense_83 (Dense)                (None, 1)            129         dense_82[0][0]                   \n",
            "==================================================================================================\n",
            "Total params: 24,368,693\n",
            "Trainable params: 24,334,133\n",
            "Non-trainable params: 34,560\n",
            "__________________________________________________________________________________________________\n"
          ],
          "name": "stdout"
        }
      ]
    },
    {
      "cell_type": "code",
      "metadata": {
        "colab": {
          "base_uri": "https://localhost:8080/"
        },
        "id": "F8f-RmZEyeP_",
        "outputId": "9a2056da-6510-4673-b68b-0cdf29b0d9ef"
      },
      "source": [
        "len(inception.layers)"
      ],
      "execution_count": 319,
      "outputs": [
        {
          "output_type": "execute_result",
          "data": {
            "text/plain": [
              "311"
            ]
          },
          "metadata": {
            "tags": []
          },
          "execution_count": 319
        }
      ]
    },
    {
      "cell_type": "code",
      "metadata": {
        "id": "gF4Oq3gPyRFU"
      },
      "source": [
        "for layer in inception.layers[:200]:\n",
        "    layer.trainable = False\n",
        "for layer in inception.layers[200:]:\n",
        "    layer.trainable = True"
      ],
      "execution_count": 320,
      "outputs": []
    },
    {
      "cell_type": "code",
      "metadata": {
        "colab": {
          "base_uri": "https://localhost:8080/"
        },
        "id": "n_HOgAh9yVM7",
        "outputId": "06646e33-2fdc-4f30-c28f-be7f9195f8ca"
      },
      "source": [
        "retina_model.summary()"
      ],
      "execution_count": 321,
      "outputs": [
        {
          "output_type": "stream",
          "text": [
            "Model: \"functional_82\"\n",
            "__________________________________________________________________________________________________\n",
            "Layer (type)                    Output Shape         Param #     Connected to                     \n",
            "==================================================================================================\n",
            "input_115 (InputLayer)          [(None, 224, 224, 3) 0                                            \n",
            "__________________________________________________________________________________________________\n",
            "inception_v3 (Functional)       (None, 5, 5, 2048)   21802784    input_115[0][0]                  \n",
            "__________________________________________________________________________________________________\n",
            "block1_conv1 (Conv2D)           (None, 5, 5, 128)    2359424     inception_v3[0][0]               \n",
            "__________________________________________________________________________________________________\n",
            "block1_conv2 (Conv2D)           (None, 5, 5, 128)    147584      block1_conv1[0][0]               \n",
            "__________________________________________________________________________________________________\n",
            "block1_pool (MaxPooling2D)      (None, 2, 2, 128)    0           block1_conv2[0][0]               \n",
            "__________________________________________________________________________________________________\n",
            "conv2d_8725 (Conv2D)            (None, 2, 2, 64)     8256        block1_pool[0][0]                \n",
            "__________________________________________________________________________________________________\n",
            "conv2d_8726 (Conv2D)            (None, 2, 2, 16)     1040        conv2d_8725[0][0]                \n",
            "__________________________________________________________________________________________________\n",
            "locally_connected2d_43 (Locally (None, 2, 2, 1)      68          conv2d_8726[0][0]                \n",
            "__________________________________________________________________________________________________\n",
            "conv2d_8727 (Conv2D)            (None, 2, 2, 128)    128         locally_connected2d_43[0][0]     \n",
            "__________________________________________________________________________________________________\n",
            "multiply_43 (Multiply)          (None, 2, 2, 128)    0           conv2d_8727[0][0]                \n",
            "                                                                 block1_pool[0][0]                \n",
            "__________________________________________________________________________________________________\n",
            "global_average_pooling2d_119 (G (None, 128)          0           multiply_43[0][0]                \n",
            "__________________________________________________________________________________________________\n",
            "global_average_pooling2d_120 (G (None, 128)          0           conv2d_8727[0][0]                \n",
            "__________________________________________________________________________________________________\n",
            "global_average_pooling2d_118 (G (None, 128)          0           block1_pool[0][0]                \n",
            "__________________________________________________________________________________________________\n",
            "global_max_pooling2d_44 (Global (None, 128)          0           block1_pool[0][0]                \n",
            "__________________________________________________________________________________________________\n",
            "lambda_37 (Lambda)              (None, 128)          0           global_average_pooling2d_119[0][0\n",
            "                                                                 global_average_pooling2d_120[0][0\n",
            "__________________________________________________________________________________________________\n",
            "concatenate_83 (Concatenate)    (None, 384)          0           global_average_pooling2d_118[0][0\n",
            "                                                                 global_max_pooling2d_44[0][0]    \n",
            "                                                                 lambda_37[0][0]                  \n",
            "__________________________________________________________________________________________________\n",
            "dense_82 (Dense)                (None, 128)          49280       concatenate_83[0][0]             \n",
            "__________________________________________________________________________________________________\n",
            "dense_83 (Dense)                (None, 1)            129         dense_82[0][0]                   \n",
            "==================================================================================================\n",
            "Total params: 24,368,693\n",
            "Trainable params: 17,370,069\n",
            "Non-trainable params: 6,998,624\n",
            "__________________________________________________________________________________________________\n"
          ],
          "name": "stdout"
        }
      ]
    },
    {
      "cell_type": "code",
      "metadata": {
        "colab": {
          "base_uri": "https://localhost:8080/"
        },
        "id": "0kMYnGylV-wQ",
        "outputId": "6b9040ca-4526-4485-f7fc-b41ce8feb1ce"
      },
      "source": [
        "from tensorflow.keras.callbacks import ModelCheckpoint, LearningRateScheduler, EarlyStopping, ReduceLROnPlateau\n",
        "from tensorflow.keras import optimizers\n",
        "\n",
        "reduceLROnPlat = ReduceLROnPlateau(monitor='val_loss',\n",
        "                                   factor=0.8,\n",
        "                                   patience=3,\n",
        "                                   verbose=1,\n",
        "                                   mode='auto',\n",
        "                                   epsilon=0.0001,\n",
        "                                   cooldown=5,\n",
        "                                   min_lr=0.0001)\n",
        "\n",
        "retina_model.compile(\n",
        "    loss='binary_crossentropy',\n",
        "    optimizer=optimizers.Adam(),\n",
        "    metrics=['accuracy']\n",
        ")"
      ],
      "execution_count": 322,
      "outputs": [
        {
          "output_type": "stream",
          "text": [
            "WARNING:tensorflow:`epsilon` argument is deprecated and will be removed, use `min_delta` instead.\n"
          ],
          "name": "stdout"
        }
      ]
    },
    {
      "cell_type": "code",
      "metadata": {
        "id": "LDHtxFKREHEW"
      },
      "source": [
        "from tensorflow.keras.callbacks import EarlyStopping\n",
        "\n",
        "early_stopping = EarlyStopping(\n",
        "    monitor=\"val_accuracy\",\n",
        "    patience=4,\n",
        "    verbose=1,\n",
        "    mode=\"auto\",\n",
        "    restore_best_weights=True,\n",
        ")"
      ],
      "execution_count": 323,
      "outputs": []
    },
    {
      "cell_type": "code",
      "metadata": {
        "colab": {
          "base_uri": "https://localhost:8080/"
        },
        "id": "BdSz6kixYpvu",
        "outputId": "539697fe-8574-4c87-c907-f222d388d91f"
      },
      "source": [
        "history = retina_model.fit(\n",
        "    train_generator,\n",
        "    steps_per_epoch=len(train_generator),\n",
        "    epochs=130,\n",
        "    callbacks=[reduceLROnPlat, early_stopping],\n",
        "    validation_data=validation_generator,\n",
        "    validation_steps=len(validation_generator),\n",
        ")"
      ],
      "execution_count": 324,
      "outputs": [
        {
          "output_type": "stream",
          "text": [
            "Epoch 1/130\n",
            "117/117 [==============================] - 65s 551ms/step - loss: 0.6257 - accuracy: 0.6780 - val_loss: 0.9217 - val_accuracy: 0.6770\n",
            "Epoch 2/130\n",
            "117/117 [==============================] - 63s 536ms/step - loss: 0.4837 - accuracy: 0.7550 - val_loss: 0.7395 - val_accuracy: 0.7312\n",
            "Epoch 3/130\n",
            "117/117 [==============================] - 63s 535ms/step - loss: 0.4586 - accuracy: 0.7754 - val_loss: 0.4790 - val_accuracy: 0.7682\n",
            "Epoch 4/130\n",
            "117/117 [==============================] - 63s 538ms/step - loss: 0.4420 - accuracy: 0.7869 - val_loss: 0.4640 - val_accuracy: 0.7741\n",
            "Epoch 5/130\n",
            "117/117 [==============================] - 63s 537ms/step - loss: 0.4290 - accuracy: 0.7968 - val_loss: 0.4716 - val_accuracy: 0.7613\n",
            "Epoch 6/130\n",
            "117/117 [==============================] - 63s 537ms/step - loss: 0.4252 - accuracy: 0.7973 - val_loss: 0.5611 - val_accuracy: 0.7436\n",
            "Epoch 7/130\n",
            "117/117 [==============================] - 63s 539ms/step - loss: 0.4070 - accuracy: 0.8072 - val_loss: 0.4413 - val_accuracy: 0.7849\n",
            "Epoch 8/130\n",
            "117/117 [==============================] - 63s 537ms/step - loss: 0.3973 - accuracy: 0.8170 - val_loss: 0.4260 - val_accuracy: 0.7961\n",
            "Epoch 9/130\n",
            "117/117 [==============================] - 63s 538ms/step - loss: 0.3899 - accuracy: 0.8184 - val_loss: 0.4789 - val_accuracy: 0.7570\n",
            "Epoch 10/130\n",
            "117/117 [==============================] - 63s 536ms/step - loss: 0.3734 - accuracy: 0.8286 - val_loss: 0.4588 - val_accuracy: 0.7698\n",
            "Epoch 11/130\n",
            "117/117 [==============================] - ETA: 0s - loss: 0.3641 - accuracy: 0.8331\n",
            "Epoch 00011: ReduceLROnPlateau reducing learning rate to 0.000800000037997961.\n",
            "117/117 [==============================] - 63s 537ms/step - loss: 0.3641 - accuracy: 0.8331 - val_loss: 0.5362 - val_accuracy: 0.7511\n",
            "Epoch 12/130\n",
            "117/117 [==============================] - 63s 538ms/step - loss: 0.3472 - accuracy: 0.8410 - val_loss: 0.4367 - val_accuracy: 0.8010\n",
            "Epoch 13/130\n",
            "117/117 [==============================] - 63s 537ms/step - loss: 0.3283 - accuracy: 0.8521 - val_loss: 0.4689 - val_accuracy: 0.7929\n",
            "Epoch 14/130\n",
            "117/117 [==============================] - 63s 537ms/step - loss: 0.3223 - accuracy: 0.8549 - val_loss: 0.4549 - val_accuracy: 0.8004\n",
            "Epoch 15/130\n",
            "117/117 [==============================] - 63s 539ms/step - loss: 0.3071 - accuracy: 0.8662 - val_loss: 0.7464 - val_accuracy: 0.7398\n",
            "Epoch 16/130\n",
            "117/117 [==============================] - ETA: 0s - loss: 0.2981 - accuracy: 0.8678Restoring model weights from the end of the best epoch.\n",
            "117/117 [==============================] - 63s 540ms/step - loss: 0.2981 - accuracy: 0.8678 - val_loss: 0.5355 - val_accuracy: 0.7795\n",
            "Epoch 00016: early stopping\n"
          ],
          "name": "stdout"
        }
      ]
    },
    {
      "cell_type": "code",
      "metadata": {
        "id": "iImHhLkABiQ4"
      },
      "source": [
        "retina_model.save('inception_resnet.h5')"
      ],
      "execution_count": 330,
      "outputs": []
    },
    {
      "cell_type": "code",
      "metadata": {
        "id": "CdVVr0FF5N_x"
      },
      "source": [
        "import sklearn.metrics as metrics\n",
        "\n",
        "def predictAndEvaluate(model_):\n",
        "  y_pred = model_.predict(test_generator,steps=100)\n",
        "  from sklearn.metrics import classification_report\n",
        "  y_pred1 =y_pred.copy()\n",
        "  y_pred1[y_pred1>=0.5] = 1\n",
        "  y_pred1[y_pred1<0.5] = 0\n",
        "  y_pred1=y_pred1.astype(int)\n",
        "\n",
        "  print(classification_report(test_generator.classes, y_pred1))\n",
        "  from sklearn.metrics import balanced_accuracy_score\n",
        "  print(balanced_accuracy_score(test_generator.classes, y_pred1))\n",
        "  print('CM: ')\n",
        "  confusion_matrix = metrics.confusion_matrix(y_true=test_generator.classes, y_pred=y_pred1)  # shape=(12, 12)\n",
        "  print(confusion_matrix)"
      ],
      "execution_count": 335,
      "outputs": []
    },
    {
      "cell_type": "code",
      "metadata": {
        "colab": {
          "base_uri": "https://localhost:8080/"
        },
        "id": "62UyXAifs_nj",
        "outputId": "7615e88d-eb7b-49b4-da8f-05815fe763c1"
      },
      "source": [
        "predictAndEvaluate(retina_model)"
      ],
      "execution_count": 336,
      "outputs": [
        {
          "output_type": "stream",
          "text": [
            "WARNING:tensorflow:Your input ran out of data; interrupting training. Make sure that your dataset or generator can generate at least `steps_per_epoch * epochs` batches (in this case, 100 batches). You may need to use the repeat() function when building your dataset.\n",
            "              precision    recall  f1-score   support\n",
            "\n",
            "           0       0.84      0.70      0.77       932\n",
            "           1       0.75      0.87      0.80       931\n",
            "\n",
            "    accuracy                           0.79      1863\n",
            "   macro avg       0.79      0.79      0.79      1863\n",
            "weighted avg       0.79      0.79      0.79      1863\n",
            "\n",
            "0.786946865938605\n",
            "CM: \n",
            "[[657 275]\n",
            " [122 809]]\n"
          ],
          "name": "stdout"
        }
      ]
    },
    {
      "cell_type": "code",
      "metadata": {
        "id": "jjIX_EZqXFxf"
      },
      "source": [
        "import matplotlib.pyplot as plt\n",
        "def plotHistory(history_):\n",
        "  plt.plot(history_.history['accuracy'])\n",
        "  plt.plot(history_.history['val_accuracy'])\n",
        "  plt.title('model accuracy')\n",
        "  plt.ylabel('accuracy')\n",
        "  plt.xlabel('epoch')\n",
        "  plt.legend(['train', 'test'], loc='upper left')\n",
        "  plt.show()\n",
        "\n",
        "  plt.plot(history_.history['loss'])\n",
        "  plt.plot(history_.history['val_loss'])\n",
        "  plt.title('model loss')\n",
        "  plt.ylabel('loss')\n",
        "  plt.xlabel('epoch')\n",
        "  plt.legend(['train', 'test'], loc='upper left')\n",
        "  plt.show()"
      ],
      "execution_count": 331,
      "outputs": []
    },
    {
      "cell_type": "code",
      "metadata": {
        "colab": {
          "base_uri": "https://localhost:8080/",
          "height": 573
        },
        "id": "rQdjacU7W3Vn",
        "outputId": "00d28406-df50-47b2-b7db-d81eec4cedd8"
      },
      "source": [
        "plotHistory(history)"
      ],
      "execution_count": 332,
      "outputs": [
        {
          "output_type": "display_data",
          "data": {
            "image/png": "[encoded data removed]",
            "text/plain": [
              "<Figure size 432x288 with 1 Axes>"
            ]
          },
          "metadata": {
            "tags": [],
            "needs_background": "light"
          }
        },
        {
          "output_type": "display_data",
          "data": {
            "image/png": "[encoded data removed]",
            "text/plain": [
              "<Figure size 432x288 with 1 Axes>"
            ]
          },
          "metadata": {
            "tags": [],
            "needs_background": "light"
          }
        }
      ]
    },
    {
      "cell_type": "code",
      "metadata": {
        "id": "mGYgu2122mfu"
      },
      "source": [
        ""
      ],
      "execution_count": 316,
      "outputs": []
    }
  ]
}